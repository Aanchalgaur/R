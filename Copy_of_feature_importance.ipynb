{
  "nbformat": 4,
  "nbformat_minor": 0,
  "metadata": {
    "colab": {
      "name": "Copy of feature_importance.ipynb",
      "provenance": [],
      "authorship_tag": "ABX9TyNtrZRvs6c5aMb6Vq3vZsiI",
      "include_colab_link": true
    },
    "kernelspec": {
      "name": "ir",
      "display_name": "R"
    },
    "language_info": {
      "name": "R"
    }
  },
  "cells": [
    {
      "cell_type": "markdown",
      "metadata": {
        "id": "view-in-github",
        "colab_type": "text"
      },
      "source": [
        "<a href=\"https://colab.research.google.com/github/Aanchalgaur/R/blob/main/Copy_of_feature_importance.ipynb\" target=\"_parent\"><img src=\"https://colab.research.google.com/assets/colab-badge.svg\" alt=\"Open In Colab\"/></a>"
      ]
    },
    {
      "cell_type": "code",
      "execution_count": null,
      "metadata": {
        "id": "UaYrSh-k6PGV"
      },
      "outputs": [],
      "source": [
        "set.seed(7)\n"
      ]
    },
    {
      "cell_type": "code",
      "source": [
        "#installing libraries\n",
        "\n",
        "install.packages('mlbench')\n",
        "install.packages('caret')"
      ],
      "metadata": {
        "colab": {
          "base_uri": "https://localhost:8080/"
        },
        "id": "LBR-zbDj6bO5",
        "outputId": "6b4739fd-3101-496c-8234-f157b8f19e41"
      },
      "execution_count": null,
      "outputs": [
        {
          "output_type": "stream",
          "name": "stderr",
          "text": [
            "Installing package into ‘/usr/local/lib/R/site-library’\n",
            "(as ‘lib’ is unspecified)\n",
            "\n",
            "Installing package into ‘/usr/local/lib/R/site-library’\n",
            "(as ‘lib’ is unspecified)\n",
            "\n",
            "also installing the dependencies ‘listenv’, ‘parallelly’, ‘future’, ‘globals’, ‘future.apply’, ‘progressr’, ‘numDeriv’, ‘SQUAREM’, ‘lava’, ‘prodlim’, ‘proxy’, ‘iterators’, ‘gower’, ‘ipred’, ‘timeDate’, ‘e1071’, ‘foreach’, ‘ModelMetrics’, ‘plyr’, ‘pROC’, ‘recipes’, ‘reshape2’\n",
            "\n",
            "\n"
          ]
        }
      ]
    },
    {
      "cell_type": "code",
      "source": [
        "# load the library\n",
        "library(mlbench)\n",
        "library(caret)"
      ],
      "metadata": {
        "id": "YUbk_PrZ6Tf-"
      },
      "execution_count": null,
      "outputs": []
    },
    {
      "cell_type": "code",
      "source": [
        "# load the dataset\n",
        "data(PimaIndiansDiabetes)"
      ],
      "metadata": {
        "id": "_uq7dBIT6TcP"
      },
      "execution_count": null,
      "outputs": []
    },
    {
      "cell_type": "code",
      "source": [
        "# prepare training scheme\n",
        "control <- trainControl(method=\"repeatedcv\", number=10, repeats=3)"
      ],
      "metadata": {
        "id": "TP1gqyQI6TaG"
      },
      "execution_count": null,
      "outputs": []
    },
    {
      "cell_type": "code",
      "source": [
        "set.seed(7)"
      ],
      "metadata": {
        "id": "lBz6ffSdtUZt"
      },
      "execution_count": null,
      "outputs": []
    },
    {
      "cell_type": "code",
      "source": [
        "# train the model\n",
        "model <- train(diabetes~., data=PimaIndiansDiabetes, method=\"lvq\", preProcess=\"scale\", trControl=control)"
      ],
      "metadata": {
        "id": "lp-uaCiR6TX8"
      },
      "execution_count": null,
      "outputs": []
    },
    {
      "cell_type": "code",
      "source": [
        "# estimate variable importance\n",
        "importance <- varImp(model, scale=FALSE)"
      ],
      "metadata": {
        "id": "kPFjqaC_6TVy"
      },
      "execution_count": null,
      "outputs": []
    },
    {
      "cell_type": "code",
      "source": [
        "# summarize importance\n",
        "print(importance)"
      ],
      "metadata": {
        "colab": {
          "base_uri": "https://localhost:8080/"
        },
        "id": "v6BaJ0MG6TTJ",
        "outputId": "5a1b3364-8dfa-46d4-ea5b-8d916761a708"
      },
      "execution_count": null,
      "outputs": [
        {
          "output_type": "stream",
          "name": "stdout",
          "text": [
            "ROC curve variable importance\n",
            "\n",
            "         Importance\n",
            "glucose      0.7881\n",
            "mass         0.6876\n",
            "age          0.6869\n",
            "pregnant     0.6195\n",
            "pedigree     0.6062\n",
            "pressure     0.5865\n",
            "triceps      0.5536\n",
            "insulin      0.5379\n"
          ]
        }
      ]
    },
    {
      "cell_type": "code",
      "source": [
        "# plot importance\n",
        "plot(importance)"
      ],
      "metadata": {
        "colab": {
          "base_uri": "https://localhost:8080/",
          "height": 437
        },
        "id": "u00i5yCW6TQc",
        "outputId": "7c859656-5516-4a11-e8de-0bd10b47364c"
      },
      "execution_count": null,
      "outputs": [
        {
          "output_type": "display_data",
          "data": {
            "image/png": "[encoded data removed]",
            "text/plain": [
              "plot without title"
            ]
          },
          "metadata": {
            "image/png": {
              "width": 420,
              "height": 420
            }
          }
        }
      ]
    },
    {
      "cell_type": "code",
      "source": [
        ""
      ],
      "metadata": {
        "id": "cFjq5LBt6TN9"
      },
      "execution_count": null,
      "outputs": []
    },
    {
      "cell_type": "code",
      "source": [
        ""
      ],
      "metadata": {
        "id": "OJ0Q2FIp6TMM"
      },
      "execution_count": null,
      "outputs": []
    }
  ]
}