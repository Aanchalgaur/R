{
  "nbformat": 4,
  "nbformat_minor": 0,
  "metadata": {
    "colab": {
      "name": "PASTING final.ipynb",
      "provenance": [],
      "authorship_tag": "ABX9TyNoZvZkzGEtf++S3Wf0ZXHP",
      "include_colab_link": true
    },
    "kernelspec": {
      "name": "ir",
      "display_name": "R"
    },
    "language_info": {
      "name": "R"
    }
  },
  "cells": [
    {
      "cell_type": "markdown",
      "metadata": {
        "id": "view-in-github",
        "colab_type": "text"
      },
      "source": [
        "<a href=\"https://colab.research.google.com/github/Aanchalgaur/R/blob/main/PASTING_final.ipynb\" target=\"_parent\"><img src=\"https://colab.research.google.com/assets/colab-badge.svg\" alt=\"Open In Colab\"/></a>"
      ]
    },
    {
      "cell_type": "code",
      "execution_count": null,
      "metadata": {
        "colab": {
          "base_uri": "https://localhost:8080/"
        },
        "id": "E30rbC97D0mt",
        "outputId": "c463c53a-21a1-4033-820a-f0dbd17ecd0f"
      },
      "outputs": [
        {
          "output_type": "stream",
          "name": "stderr",
          "text": [
            "Installing package into ‘/usr/local/lib/R/site-library’\n",
            "(as ‘lib’ is unspecified)\n",
            "\n",
            "also installing the dependency ‘proxy’\n",
            "\n",
            "\n",
            "Installing package into ‘/usr/local/lib/R/site-library’\n",
            "(as ‘lib’ is unspecified)\n",
            "\n",
            "also installing the dependencies ‘listenv’, ‘parallelly’, ‘future’, ‘globals’, ‘future.apply’, ‘progressr’, ‘numDeriv’, ‘SQUAREM’, ‘lava’, ‘prodlim’, ‘iterators’, ‘gower’, ‘ipred’, ‘timeDate’, ‘foreach’, ‘ModelMetrics’, ‘plyr’, ‘pROC’, ‘recipes’, ‘reshape2’\n",
            "\n",
            "\n",
            "Installing package into ‘/usr/local/lib/R/site-library’\n",
            "(as ‘lib’ is unspecified)\n",
            "\n",
            "Installing package into ‘/usr/local/lib/R/site-library’\n",
            "(as ‘lib’ is unspecified)\n",
            "\n"
          ]
        }
      ],
      "source": [
        "install.packages('e1071')\n",
        "install.packages('caret')\n",
        "install.packages('rpart')\n",
        "install.packages('ipred')"
      ]
    },
    {
      "cell_type": "code",
      "source": [
        "library(dplyr)       #for data wrangling\n",
        "library(e1071)       #for calculating variable importance\n",
        "library(caret)       #for general model fitting\n",
        "library(rpart)       #for fitting decision trees\n",
        "library(ipred)       #for fitting bagged decision trees"
      ],
      "metadata": {
        "id": "AIqT_KDKD6dC"
      },
      "execution_count": null,
      "outputs": []
    },
    {
      "cell_type": "code",
      "source": [
        "airquality"
      ],
      "metadata": {
        "id": "7NCHcUgOFRYt",
        "colab": {
          "base_uri": "https://localhost:8080/",
          "height": 1000
        },
        "outputId": "dd77e2a8-5c68-4b96-db8e-d7e380a4c2ea"
      },
      "execution_count": null,
      "outputs": [
        {
          "output_type": "display_data",
          "data": {
            "text/plain": [
              "    Ozone Solar.R Wind Temp Month Day\n",
              "1    41   190      7.4 67   5      1 \n",
              "2    36   118      8.0 72   5      2 \n",
              "3    12   149     12.6 74   5      3 \n",
              "4    18   313     11.5 62   5      4 \n",
              "5    NA    NA     14.3 56   5      5 \n",
              "6    28    NA     14.9 66   5      6 \n",
              "7    23   299      8.6 65   5      7 \n",
              "8    19    99     13.8 59   5      8 \n",
              "9     8    19     20.1 61   5      9 \n",
              "10   NA   194      8.6 69   5     10 \n",
              "11    7    NA      6.9 74   5     11 \n",
              "12   16   256      9.7 69   5     12 \n",
              "13   11   290      9.2 66   5     13 \n",
              "14   14   274     10.9 68   5     14 \n",
              "15   18    65     13.2 58   5     15 \n",
              "16   14   334     11.5 64   5     16 \n",
              "17   34   307     12.0 66   5     17 \n",
              "18    6    78     18.4 57   5     18 \n",
              "19   30   322     11.5 68   5     19 \n",
              "20   11    44      9.7 62   5     20 \n",
              "21    1     8      9.7 59   5     21 \n",
              "22   11   320     16.6 73   5     22 \n",
              "23    4    25      9.7 61   5     23 \n",
              "24   32    92     12.0 61   5     24 \n",
              "25   NA    66     16.6 57   5     25 \n",
              "26   NA   266     14.9 58   5     26 \n",
              "27   NA    NA      8.0 57   5     27 \n",
              "28   23    13     12.0 67   5     28 \n",
              "29   45   252     14.9 81   5     29 \n",
              "30  115   223      5.7 79   5     30 \n",
              "⋮   ⋮     ⋮       ⋮    ⋮    ⋮     ⋮  \n",
              "124 96    167      6.9 91   9      1 \n",
              "125 78    197      5.1 92   9      2 \n",
              "126 73    183      2.8 93   9      3 \n",
              "127 91    189      4.6 93   9      4 \n",
              "128 47     95      7.4 87   9      5 \n",
              "129 32     92     15.5 84   9      6 \n",
              "130 20    252     10.9 80   9      7 \n",
              "131 23    220     10.3 78   9      8 \n",
              "132 21    230     10.9 75   9      9 \n",
              "133 24    259      9.7 73   9     10 \n",
              "134 44    236     14.9 81   9     11 \n",
              "135 21    259     15.5 76   9     12 \n",
              "136 28    238      6.3 77   9     13 \n",
              "137  9     24     10.9 71   9     14 \n",
              "138 13    112     11.5 71   9     15 \n",
              "139 46    237      6.9 78   9     16 \n",
              "140 18    224     13.8 67   9     17 \n",
              "141 13     27     10.3 76   9     18 \n",
              "142 24    238     10.3 68   9     19 \n",
              "143 16    201      8.0 82   9     20 \n",
              "144 13    238     12.6 64   9     21 \n",
              "145 23     14      9.2 71   9     22 \n",
              "146 36    139     10.3 81   9     23 \n",
              "147  7     49     10.3 69   9     24 \n",
              "148 14     20     16.6 63   9     25 \n",
              "149 30    193      6.9 70   9     26 \n",
              "150 NA    145     13.2 77   9     27 \n",
              "151 14    191     14.3 75   9     28 \n",
              "152 18    131      8.0 76   9     29 \n",
              "153 20    223     11.5 68   9     30 "
            ],
            "text/latex": "A data.frame: 153 × 6\n\\begin{tabular}{llllll}\n Ozone & Solar.R & Wind & Temp & Month & Day\\\\\n <int> & <int> & <dbl> & <int> & <int> & <int>\\\\\n\\hline\n\t  41 & 190 &  7.4 & 67 & 5 &  1\\\\\n\t  36 & 118 &  8.0 & 72 & 5 &  2\\\\\n\t  12 & 149 & 12.6 & 74 & 5 &  3\\\\\n\t  18 & 313 & 11.5 & 62 & 5 &  4\\\\\n\t  NA &  NA & 14.3 & 56 & 5 &  5\\\\\n\t  28 &  NA & 14.9 & 66 & 5 &  6\\\\\n\t  23 & 299 &  8.6 & 65 & 5 &  7\\\\\n\t  19 &  99 & 13.8 & 59 & 5 &  8\\\\\n\t   8 &  19 & 20.1 & 61 & 5 &  9\\\\\n\t  NA & 194 &  8.6 & 69 & 5 & 10\\\\\n\t   7 &  NA &  6.9 & 74 & 5 & 11\\\\\n\t  16 & 256 &  9.7 & 69 & 5 & 12\\\\\n\t  11 & 290 &  9.2 & 66 & 5 & 13\\\\\n\t  14 & 274 & 10.9 & 68 & 5 & 14\\\\\n\t  18 &  65 & 13.2 & 58 & 5 & 15\\\\\n\t  14 & 334 & 11.5 & 64 & 5 & 16\\\\\n\t  34 & 307 & 12.0 & 66 & 5 & 17\\\\\n\t   6 &  78 & 18.4 & 57 & 5 & 18\\\\\n\t  30 & 322 & 11.5 & 68 & 5 & 19\\\\\n\t  11 &  44 &  9.7 & 62 & 5 & 20\\\\\n\t   1 &   8 &  9.7 & 59 & 5 & 21\\\\\n\t  11 & 320 & 16.6 & 73 & 5 & 22\\\\\n\t   4 &  25 &  9.7 & 61 & 5 & 23\\\\\n\t  32 &  92 & 12.0 & 61 & 5 & 24\\\\\n\t  NA &  66 & 16.6 & 57 & 5 & 25\\\\\n\t  NA & 266 & 14.9 & 58 & 5 & 26\\\\\n\t  NA &  NA &  8.0 & 57 & 5 & 27\\\\\n\t  23 &  13 & 12.0 & 67 & 5 & 28\\\\\n\t  45 & 252 & 14.9 & 81 & 5 & 29\\\\\n\t 115 & 223 &  5.7 & 79 & 5 & 30\\\\\n\t ⋮ & ⋮ & ⋮ & ⋮ & ⋮ & ⋮\\\\\n\t 96 & 167 &  6.9 & 91 & 9 &  1\\\\\n\t 78 & 197 &  5.1 & 92 & 9 &  2\\\\\n\t 73 & 183 &  2.8 & 93 & 9 &  3\\\\\n\t 91 & 189 &  4.6 & 93 & 9 &  4\\\\\n\t 47 &  95 &  7.4 & 87 & 9 &  5\\\\\n\t 32 &  92 & 15.5 & 84 & 9 &  6\\\\\n\t 20 & 252 & 10.9 & 80 & 9 &  7\\\\\n\t 23 & 220 & 10.3 & 78 & 9 &  8\\\\\n\t 21 & 230 & 10.9 & 75 & 9 &  9\\\\\n\t 24 & 259 &  9.7 & 73 & 9 & 10\\\\\n\t 44 & 236 & 14.9 & 81 & 9 & 11\\\\\n\t 21 & 259 & 15.5 & 76 & 9 & 12\\\\\n\t 28 & 238 &  6.3 & 77 & 9 & 13\\\\\n\t  9 &  24 & 10.9 & 71 & 9 & 14\\\\\n\t 13 & 112 & 11.5 & 71 & 9 & 15\\\\\n\t 46 & 237 &  6.9 & 78 & 9 & 16\\\\\n\t 18 & 224 & 13.8 & 67 & 9 & 17\\\\\n\t 13 &  27 & 10.3 & 76 & 9 & 18\\\\\n\t 24 & 238 & 10.3 & 68 & 9 & 19\\\\\n\t 16 & 201 &  8.0 & 82 & 9 & 20\\\\\n\t 13 & 238 & 12.6 & 64 & 9 & 21\\\\\n\t 23 &  14 &  9.2 & 71 & 9 & 22\\\\\n\t 36 & 139 & 10.3 & 81 & 9 & 23\\\\\n\t  7 &  49 & 10.3 & 69 & 9 & 24\\\\\n\t 14 &  20 & 16.6 & 63 & 9 & 25\\\\\n\t 30 & 193 &  6.9 & 70 & 9 & 26\\\\\n\t NA & 145 & 13.2 & 77 & 9 & 27\\\\\n\t 14 & 191 & 14.3 & 75 & 9 & 28\\\\\n\t 18 & 131 &  8.0 & 76 & 9 & 29\\\\\n\t 20 & 223 & 11.5 & 68 & 9 & 30\\\\\n\\end{tabular}\n",
            "text/markdown": "\nA data.frame: 153 × 6\n\n| Ozone &lt;int&gt; | Solar.R &lt;int&gt; | Wind &lt;dbl&gt; | Temp &lt;int&gt; | Month &lt;int&gt; | Day &lt;int&gt; |\n|---|---|---|---|---|---|\n|  41 | 190 |  7.4 | 67 | 5 |  1 |\n|  36 | 118 |  8.0 | 72 | 5 |  2 |\n|  12 | 149 | 12.6 | 74 | 5 |  3 |\n|  18 | 313 | 11.5 | 62 | 5 |  4 |\n|  NA |  NA | 14.3 | 56 | 5 |  5 |\n|  28 |  NA | 14.9 | 66 | 5 |  6 |\n|  23 | 299 |  8.6 | 65 | 5 |  7 |\n|  19 |  99 | 13.8 | 59 | 5 |  8 |\n|   8 |  19 | 20.1 | 61 | 5 |  9 |\n|  NA | 194 |  8.6 | 69 | 5 | 10 |\n|   7 |  NA |  6.9 | 74 | 5 | 11 |\n|  16 | 256 |  9.7 | 69 | 5 | 12 |\n|  11 | 290 |  9.2 | 66 | 5 | 13 |\n|  14 | 274 | 10.9 | 68 | 5 | 14 |\n|  18 |  65 | 13.2 | 58 | 5 | 15 |\n|  14 | 334 | 11.5 | 64 | 5 | 16 |\n|  34 | 307 | 12.0 | 66 | 5 | 17 |\n|   6 |  78 | 18.4 | 57 | 5 | 18 |\n|  30 | 322 | 11.5 | 68 | 5 | 19 |\n|  11 |  44 |  9.7 | 62 | 5 | 20 |\n|   1 |   8 |  9.7 | 59 | 5 | 21 |\n|  11 | 320 | 16.6 | 73 | 5 | 22 |\n|   4 |  25 |  9.7 | 61 | 5 | 23 |\n|  32 |  92 | 12.0 | 61 | 5 | 24 |\n|  NA |  66 | 16.6 | 57 | 5 | 25 |\n|  NA | 266 | 14.9 | 58 | 5 | 26 |\n|  NA |  NA |  8.0 | 57 | 5 | 27 |\n|  23 |  13 | 12.0 | 67 | 5 | 28 |\n|  45 | 252 | 14.9 | 81 | 5 | 29 |\n| 115 | 223 |  5.7 | 79 | 5 | 30 |\n| ⋮ | ⋮ | ⋮ | ⋮ | ⋮ | ⋮ |\n| 96 | 167 |  6.9 | 91 | 9 |  1 |\n| 78 | 197 |  5.1 | 92 | 9 |  2 |\n| 73 | 183 |  2.8 | 93 | 9 |  3 |\n| 91 | 189 |  4.6 | 93 | 9 |  4 |\n| 47 |  95 |  7.4 | 87 | 9 |  5 |\n| 32 |  92 | 15.5 | 84 | 9 |  6 |\n| 20 | 252 | 10.9 | 80 | 9 |  7 |\n| 23 | 220 | 10.3 | 78 | 9 |  8 |\n| 21 | 230 | 10.9 | 75 | 9 |  9 |\n| 24 | 259 |  9.7 | 73 | 9 | 10 |\n| 44 | 236 | 14.9 | 81 | 9 | 11 |\n| 21 | 259 | 15.5 | 76 | 9 | 12 |\n| 28 | 238 |  6.3 | 77 | 9 | 13 |\n|  9 |  24 | 10.9 | 71 | 9 | 14 |\n| 13 | 112 | 11.5 | 71 | 9 | 15 |\n| 46 | 237 |  6.9 | 78 | 9 | 16 |\n| 18 | 224 | 13.8 | 67 | 9 | 17 |\n| 13 |  27 | 10.3 | 76 | 9 | 18 |\n| 24 | 238 | 10.3 | 68 | 9 | 19 |\n| 16 | 201 |  8.0 | 82 | 9 | 20 |\n| 13 | 238 | 12.6 | 64 | 9 | 21 |\n| 23 |  14 |  9.2 | 71 | 9 | 22 |\n| 36 | 139 | 10.3 | 81 | 9 | 23 |\n|  7 |  49 | 10.3 | 69 | 9 | 24 |\n| 14 |  20 | 16.6 | 63 | 9 | 25 |\n| 30 | 193 |  6.9 | 70 | 9 | 26 |\n| NA | 145 | 13.2 | 77 | 9 | 27 |\n| 14 | 191 | 14.3 | 75 | 9 | 28 |\n| 18 | 131 |  8.0 | 76 | 9 | 29 |\n| 20 | 223 | 11.5 | 68 | 9 | 30 |\n\n",
            "text/html": [
              "<table class=\"dataframe\">\n",
              "<caption>A data.frame: 153 × 6</caption>\n",
              "<thead>\n",
              "\t<tr><th scope=col>Ozone</th><th scope=col>Solar.R</th><th scope=col>Wind</th><th scope=col>Temp</th><th scope=col>Month</th><th scope=col>Day</th></tr>\n",
              "\t<tr><th scope=col>&lt;int&gt;</th><th scope=col>&lt;int&gt;</th><th scope=col>&lt;dbl&gt;</th><th scope=col>&lt;int&gt;</th><th scope=col>&lt;int&gt;</th><th scope=col>&lt;int&gt;</th></tr>\n",
              "</thead>\n",
              "<tbody>\n",
              "\t<tr><td> 41</td><td>190</td><td> 7.4</td><td>67</td><td>5</td><td> 1</td></tr>\n",
              "\t<tr><td> 36</td><td>118</td><td> 8.0</td><td>72</td><td>5</td><td> 2</td></tr>\n",
              "\t<tr><td> 12</td><td>149</td><td>12.6</td><td>74</td><td>5</td><td> 3</td></tr>\n",
              "\t<tr><td> 18</td><td>313</td><td>11.5</td><td>62</td><td>5</td><td> 4</td></tr>\n",
              "\t<tr><td> NA</td><td> NA</td><td>14.3</td><td>56</td><td>5</td><td> 5</td></tr>\n",
              "\t<tr><td> 28</td><td> NA</td><td>14.9</td><td>66</td><td>5</td><td> 6</td></tr>\n",
              "\t<tr><td> 23</td><td>299</td><td> 8.6</td><td>65</td><td>5</td><td> 7</td></tr>\n",
              "\t<tr><td> 19</td><td> 99</td><td>13.8</td><td>59</td><td>5</td><td> 8</td></tr>\n",
              "\t<tr><td>  8</td><td> 19</td><td>20.1</td><td>61</td><td>5</td><td> 9</td></tr>\n",
              "\t<tr><td> NA</td><td>194</td><td> 8.6</td><td>69</td><td>5</td><td>10</td></tr>\n",
              "\t<tr><td>  7</td><td> NA</td><td> 6.9</td><td>74</td><td>5</td><td>11</td></tr>\n",
              "\t<tr><td> 16</td><td>256</td><td> 9.7</td><td>69</td><td>5</td><td>12</td></tr>\n",
              "\t<tr><td> 11</td><td>290</td><td> 9.2</td><td>66</td><td>5</td><td>13</td></tr>\n",
              "\t<tr><td> 14</td><td>274</td><td>10.9</td><td>68</td><td>5</td><td>14</td></tr>\n",
              "\t<tr><td> 18</td><td> 65</td><td>13.2</td><td>58</td><td>5</td><td>15</td></tr>\n",
              "\t<tr><td> 14</td><td>334</td><td>11.5</td><td>64</td><td>5</td><td>16</td></tr>\n",
              "\t<tr><td> 34</td><td>307</td><td>12.0</td><td>66</td><td>5</td><td>17</td></tr>\n",
              "\t<tr><td>  6</td><td> 78</td><td>18.4</td><td>57</td><td>5</td><td>18</td></tr>\n",
              "\t<tr><td> 30</td><td>322</td><td>11.5</td><td>68</td><td>5</td><td>19</td></tr>\n",
              "\t<tr><td> 11</td><td> 44</td><td> 9.7</td><td>62</td><td>5</td><td>20</td></tr>\n",
              "\t<tr><td>  1</td><td>  8</td><td> 9.7</td><td>59</td><td>5</td><td>21</td></tr>\n",
              "\t<tr><td> 11</td><td>320</td><td>16.6</td><td>73</td><td>5</td><td>22</td></tr>\n",
              "\t<tr><td>  4</td><td> 25</td><td> 9.7</td><td>61</td><td>5</td><td>23</td></tr>\n",
              "\t<tr><td> 32</td><td> 92</td><td>12.0</td><td>61</td><td>5</td><td>24</td></tr>\n",
              "\t<tr><td> NA</td><td> 66</td><td>16.6</td><td>57</td><td>5</td><td>25</td></tr>\n",
              "\t<tr><td> NA</td><td>266</td><td>14.9</td><td>58</td><td>5</td><td>26</td></tr>\n",
              "\t<tr><td> NA</td><td> NA</td><td> 8.0</td><td>57</td><td>5</td><td>27</td></tr>\n",
              "\t<tr><td> 23</td><td> 13</td><td>12.0</td><td>67</td><td>5</td><td>28</td></tr>\n",
              "\t<tr><td> 45</td><td>252</td><td>14.9</td><td>81</td><td>5</td><td>29</td></tr>\n",
              "\t<tr><td>115</td><td>223</td><td> 5.7</td><td>79</td><td>5</td><td>30</td></tr>\n",
              "\t<tr><td>⋮</td><td>⋮</td><td>⋮</td><td>⋮</td><td>⋮</td><td>⋮</td></tr>\n",
              "\t<tr><td>96</td><td>167</td><td> 6.9</td><td>91</td><td>9</td><td> 1</td></tr>\n",
              "\t<tr><td>78</td><td>197</td><td> 5.1</td><td>92</td><td>9</td><td> 2</td></tr>\n",
              "\t<tr><td>73</td><td>183</td><td> 2.8</td><td>93</td><td>9</td><td> 3</td></tr>\n",
              "\t<tr><td>91</td><td>189</td><td> 4.6</td><td>93</td><td>9</td><td> 4</td></tr>\n",
              "\t<tr><td>47</td><td> 95</td><td> 7.4</td><td>87</td><td>9</td><td> 5</td></tr>\n",
              "\t<tr><td>32</td><td> 92</td><td>15.5</td><td>84</td><td>9</td><td> 6</td></tr>\n",
              "\t<tr><td>20</td><td>252</td><td>10.9</td><td>80</td><td>9</td><td> 7</td></tr>\n",
              "\t<tr><td>23</td><td>220</td><td>10.3</td><td>78</td><td>9</td><td> 8</td></tr>\n",
              "\t<tr><td>21</td><td>230</td><td>10.9</td><td>75</td><td>9</td><td> 9</td></tr>\n",
              "\t<tr><td>24</td><td>259</td><td> 9.7</td><td>73</td><td>9</td><td>10</td></tr>\n",
              "\t<tr><td>44</td><td>236</td><td>14.9</td><td>81</td><td>9</td><td>11</td></tr>\n",
              "\t<tr><td>21</td><td>259</td><td>15.5</td><td>76</td><td>9</td><td>12</td></tr>\n",
              "\t<tr><td>28</td><td>238</td><td> 6.3</td><td>77</td><td>9</td><td>13</td></tr>\n",
              "\t<tr><td> 9</td><td> 24</td><td>10.9</td><td>71</td><td>9</td><td>14</td></tr>\n",
              "\t<tr><td>13</td><td>112</td><td>11.5</td><td>71</td><td>9</td><td>15</td></tr>\n",
              "\t<tr><td>46</td><td>237</td><td> 6.9</td><td>78</td><td>9</td><td>16</td></tr>\n",
              "\t<tr><td>18</td><td>224</td><td>13.8</td><td>67</td><td>9</td><td>17</td></tr>\n",
              "\t<tr><td>13</td><td> 27</td><td>10.3</td><td>76</td><td>9</td><td>18</td></tr>\n",
              "\t<tr><td>24</td><td>238</td><td>10.3</td><td>68</td><td>9</td><td>19</td></tr>\n",
              "\t<tr><td>16</td><td>201</td><td> 8.0</td><td>82</td><td>9</td><td>20</td></tr>\n",
              "\t<tr><td>13</td><td>238</td><td>12.6</td><td>64</td><td>9</td><td>21</td></tr>\n",
              "\t<tr><td>23</td><td> 14</td><td> 9.2</td><td>71</td><td>9</td><td>22</td></tr>\n",
              "\t<tr><td>36</td><td>139</td><td>10.3</td><td>81</td><td>9</td><td>23</td></tr>\n",
              "\t<tr><td> 7</td><td> 49</td><td>10.3</td><td>69</td><td>9</td><td>24</td></tr>\n",
              "\t<tr><td>14</td><td> 20</td><td>16.6</td><td>63</td><td>9</td><td>25</td></tr>\n",
              "\t<tr><td>30</td><td>193</td><td> 6.9</td><td>70</td><td>9</td><td>26</td></tr>\n",
              "\t<tr><td>NA</td><td>145</td><td>13.2</td><td>77</td><td>9</td><td>27</td></tr>\n",
              "\t<tr><td>14</td><td>191</td><td>14.3</td><td>75</td><td>9</td><td>28</td></tr>\n",
              "\t<tr><td>18</td><td>131</td><td> 8.0</td><td>76</td><td>9</td><td>29</td></tr>\n",
              "\t<tr><td>20</td><td>223</td><td>11.5</td><td>68</td><td>9</td><td>30</td></tr>\n",
              "</tbody>\n",
              "</table>\n"
            ]
          },
          "metadata": {}
        }
      ]
    },
    {
      "cell_type": "code",
      "source": [
        "set.seed(1)"
      ],
      "metadata": {
        "id": "dvhfo1pJFXUn"
      },
      "execution_count": null,
      "outputs": []
    },
    {
      "cell_type": "code",
      "source": [
        "data = airquality"
      ],
      "metadata": {
        "id": "zFfVbVwnsFbI"
      },
      "execution_count": null,
      "outputs": []
    },
    {
      "cell_type": "code",
      "source": [
        "sum(is.na(data))"
      ],
      "metadata": {
        "colab": {
          "base_uri": "https://localhost:8080/",
          "height": 34
        },
        "id": "ri_3MWsysLIv",
        "outputId": "78795a2d-5018-4125-e0e1-59433970a40a"
      },
      "execution_count": null,
      "outputs": [
        {
          "output_type": "display_data",
          "data": {
            "text/plain": [
              "[1] 44"
            ],
            "text/latex": "44",
            "text/markdown": "44",
            "text/html": [
              "44"
            ]
          },
          "metadata": {}
        }
      ]
    },
    {
      "cell_type": "code",
      "source": [
        "df= na.omit(data)"
      ],
      "metadata": {
        "id": "OpLidKvlwBpb"
      },
      "execution_count": null,
      "outputs": []
    },
    {
      "cell_type": "code",
      "source": [
        "sum(is.na(df))"
      ],
      "metadata": {
        "colab": {
          "base_uri": "https://localhost:8080/",
          "height": 34
        },
        "id": "g-kc9umRwMNQ",
        "outputId": "2e685b50-2a1e-44ed-93b4-4585f902402e"
      },
      "execution_count": null,
      "outputs": [
        {
          "output_type": "display_data",
          "data": {
            "text/plain": [
              "[1] 0"
            ],
            "text/latex": "0",
            "text/markdown": "0",
            "text/html": [
              "0"
            ]
          },
          "metadata": {}
        }
      ]
    },
    {
      "cell_type": "code",
      "source": [
        "str(df)"
      ],
      "metadata": {
        "colab": {
          "base_uri": "https://localhost:8080/"
        },
        "id": "opvuFG5hwW2z",
        "outputId": "17e9c252-90ea-4ffd-b583-7914fd3c5b18"
      },
      "execution_count": null,
      "outputs": [
        {
          "output_type": "stream",
          "name": "stdout",
          "text": [
            "'data.frame':\t111 obs. of  6 variables:\n",
            " $ Ozone  : int  41 36 12 18 23 19 8 16 11 14 ...\n",
            " $ Solar.R: int  190 118 149 313 299 99 19 256 290 274 ...\n",
            " $ Wind   : num  7.4 8 12.6 11.5 8.6 13.8 20.1 9.7 9.2 10.9 ...\n",
            " $ Temp   : int  67 72 74 62 65 59 61 69 66 68 ...\n",
            " $ Month  : int  5 5 5 5 5 5 5 5 5 5 ...\n",
            " $ Day    : int  1 2 3 4 7 8 9 12 13 14 ...\n",
            " - attr(*, \"na.action\")= 'omit' Named int [1:42] 5 6 10 11 25 26 27 32 33 34 ...\n",
            "  ..- attr(*, \"names\")= chr [1:42] \"5\" \"6\" \"10\" \"11\" ...\n"
          ]
        }
      ]
    },
    {
      "cell_type": "code",
      "source": [
        "df"
      ],
      "metadata": {
        "colab": {
          "base_uri": "https://localhost:8080/",
          "height": 1000
        },
        "id": "fYkGRimHwZuo",
        "outputId": "1f9483f4-9e20-4391-cbeb-a0e01528edff"
      },
      "execution_count": null,
      "outputs": [
        {
          "output_type": "display_data",
          "data": {
            "text/plain": [
              "    Ozone Solar.R Wind Temp Month Day\n",
              "1    41   190      7.4 67   5      1 \n",
              "2    36   118      8.0 72   5      2 \n",
              "3    12   149     12.6 74   5      3 \n",
              "4    18   313     11.5 62   5      4 \n",
              "7    23   299      8.6 65   5      7 \n",
              "8    19    99     13.8 59   5      8 \n",
              "9     8    19     20.1 61   5      9 \n",
              "12   16   256      9.7 69   5     12 \n",
              "13   11   290      9.2 66   5     13 \n",
              "14   14   274     10.9 68   5     14 \n",
              "15   18    65     13.2 58   5     15 \n",
              "16   14   334     11.5 64   5     16 \n",
              "17   34   307     12.0 66   5     17 \n",
              "18    6    78     18.4 57   5     18 \n",
              "19   30   322     11.5 68   5     19 \n",
              "20   11    44      9.7 62   5     20 \n",
              "21    1     8      9.7 59   5     21 \n",
              "22   11   320     16.6 73   5     22 \n",
              "23    4    25      9.7 61   5     23 \n",
              "24   32    92     12.0 61   5     24 \n",
              "28   23    13     12.0 67   5     28 \n",
              "29   45   252     14.9 81   5     29 \n",
              "30  115   223      5.7 79   5     30 \n",
              "31   37   279      7.4 76   5     31 \n",
              "38   29   127      9.7 82   6      7 \n",
              "40   71   291     13.8 90   6      9 \n",
              "41   39   323     11.5 87   6     10 \n",
              "44   23   148      8.0 82   6     13 \n",
              "47   21   191     14.9 77   6     16 \n",
              "48   37   284     20.7 72   6     17 \n",
              "⋮   ⋮     ⋮       ⋮    ⋮    ⋮     ⋮  \n",
              "123 85    188      6.3 94   8     31 \n",
              "124 96    167      6.9 91   9      1 \n",
              "125 78    197      5.1 92   9      2 \n",
              "126 73    183      2.8 93   9      3 \n",
              "127 91    189      4.6 93   9      4 \n",
              "128 47     95      7.4 87   9      5 \n",
              "129 32     92     15.5 84   9      6 \n",
              "130 20    252     10.9 80   9      7 \n",
              "131 23    220     10.3 78   9      8 \n",
              "132 21    230     10.9 75   9      9 \n",
              "133 24    259      9.7 73   9     10 \n",
              "134 44    236     14.9 81   9     11 \n",
              "135 21    259     15.5 76   9     12 \n",
              "136 28    238      6.3 77   9     13 \n",
              "137  9     24     10.9 71   9     14 \n",
              "138 13    112     11.5 71   9     15 \n",
              "139 46    237      6.9 78   9     16 \n",
              "140 18    224     13.8 67   9     17 \n",
              "141 13     27     10.3 76   9     18 \n",
              "142 24    238     10.3 68   9     19 \n",
              "143 16    201      8.0 82   9     20 \n",
              "144 13    238     12.6 64   9     21 \n",
              "145 23     14      9.2 71   9     22 \n",
              "146 36    139     10.3 81   9     23 \n",
              "147  7     49     10.3 69   9     24 \n",
              "148 14     20     16.6 63   9     25 \n",
              "149 30    193      6.9 70   9     26 \n",
              "151 14    191     14.3 75   9     28 \n",
              "152 18    131      8.0 76   9     29 \n",
              "153 20    223     11.5 68   9     30 "
            ],
            "text/latex": "A data.frame: 111 × 6\n\\begin{tabular}{r|llllll}\n  & Ozone & Solar.R & Wind & Temp & Month & Day\\\\\n  & <int> & <int> & <dbl> & <int> & <int> & <int>\\\\\n\\hline\n\t1 &  41 & 190 &  7.4 & 67 & 5 &  1\\\\\n\t2 &  36 & 118 &  8.0 & 72 & 5 &  2\\\\\n\t3 &  12 & 149 & 12.6 & 74 & 5 &  3\\\\\n\t4 &  18 & 313 & 11.5 & 62 & 5 &  4\\\\\n\t7 &  23 & 299 &  8.6 & 65 & 5 &  7\\\\\n\t8 &  19 &  99 & 13.8 & 59 & 5 &  8\\\\\n\t9 &   8 &  19 & 20.1 & 61 & 5 &  9\\\\\n\t12 &  16 & 256 &  9.7 & 69 & 5 & 12\\\\\n\t13 &  11 & 290 &  9.2 & 66 & 5 & 13\\\\\n\t14 &  14 & 274 & 10.9 & 68 & 5 & 14\\\\\n\t15 &  18 &  65 & 13.2 & 58 & 5 & 15\\\\\n\t16 &  14 & 334 & 11.5 & 64 & 5 & 16\\\\\n\t17 &  34 & 307 & 12.0 & 66 & 5 & 17\\\\\n\t18 &   6 &  78 & 18.4 & 57 & 5 & 18\\\\\n\t19 &  30 & 322 & 11.5 & 68 & 5 & 19\\\\\n\t20 &  11 &  44 &  9.7 & 62 & 5 & 20\\\\\n\t21 &   1 &   8 &  9.7 & 59 & 5 & 21\\\\\n\t22 &  11 & 320 & 16.6 & 73 & 5 & 22\\\\\n\t23 &   4 &  25 &  9.7 & 61 & 5 & 23\\\\\n\t24 &  32 &  92 & 12.0 & 61 & 5 & 24\\\\\n\t28 &  23 &  13 & 12.0 & 67 & 5 & 28\\\\\n\t29 &  45 & 252 & 14.9 & 81 & 5 & 29\\\\\n\t30 & 115 & 223 &  5.7 & 79 & 5 & 30\\\\\n\t31 &  37 & 279 &  7.4 & 76 & 5 & 31\\\\\n\t38 &  29 & 127 &  9.7 & 82 & 6 &  7\\\\\n\t40 &  71 & 291 & 13.8 & 90 & 6 &  9\\\\\n\t41 &  39 & 323 & 11.5 & 87 & 6 & 10\\\\\n\t44 &  23 & 148 &  8.0 & 82 & 6 & 13\\\\\n\t47 &  21 & 191 & 14.9 & 77 & 6 & 16\\\\\n\t48 &  37 & 284 & 20.7 & 72 & 6 & 17\\\\\n\t⋮ & ⋮ & ⋮ & ⋮ & ⋮ & ⋮ & ⋮\\\\\n\t123 & 85 & 188 &  6.3 & 94 & 8 & 31\\\\\n\t124 & 96 & 167 &  6.9 & 91 & 9 &  1\\\\\n\t125 & 78 & 197 &  5.1 & 92 & 9 &  2\\\\\n\t126 & 73 & 183 &  2.8 & 93 & 9 &  3\\\\\n\t127 & 91 & 189 &  4.6 & 93 & 9 &  4\\\\\n\t128 & 47 &  95 &  7.4 & 87 & 9 &  5\\\\\n\t129 & 32 &  92 & 15.5 & 84 & 9 &  6\\\\\n\t130 & 20 & 252 & 10.9 & 80 & 9 &  7\\\\\n\t131 & 23 & 220 & 10.3 & 78 & 9 &  8\\\\\n\t132 & 21 & 230 & 10.9 & 75 & 9 &  9\\\\\n\t133 & 24 & 259 &  9.7 & 73 & 9 & 10\\\\\n\t134 & 44 & 236 & 14.9 & 81 & 9 & 11\\\\\n\t135 & 21 & 259 & 15.5 & 76 & 9 & 12\\\\\n\t136 & 28 & 238 &  6.3 & 77 & 9 & 13\\\\\n\t137 &  9 &  24 & 10.9 & 71 & 9 & 14\\\\\n\t138 & 13 & 112 & 11.5 & 71 & 9 & 15\\\\\n\t139 & 46 & 237 &  6.9 & 78 & 9 & 16\\\\\n\t140 & 18 & 224 & 13.8 & 67 & 9 & 17\\\\\n\t141 & 13 &  27 & 10.3 & 76 & 9 & 18\\\\\n\t142 & 24 & 238 & 10.3 & 68 & 9 & 19\\\\\n\t143 & 16 & 201 &  8.0 & 82 & 9 & 20\\\\\n\t144 & 13 & 238 & 12.6 & 64 & 9 & 21\\\\\n\t145 & 23 &  14 &  9.2 & 71 & 9 & 22\\\\\n\t146 & 36 & 139 & 10.3 & 81 & 9 & 23\\\\\n\t147 &  7 &  49 & 10.3 & 69 & 9 & 24\\\\\n\t148 & 14 &  20 & 16.6 & 63 & 9 & 25\\\\\n\t149 & 30 & 193 &  6.9 & 70 & 9 & 26\\\\\n\t151 & 14 & 191 & 14.3 & 75 & 9 & 28\\\\\n\t152 & 18 & 131 &  8.0 & 76 & 9 & 29\\\\\n\t153 & 20 & 223 & 11.5 & 68 & 9 & 30\\\\\n\\end{tabular}\n",
            "text/markdown": "\nA data.frame: 111 × 6\n\n| <!--/--> | Ozone &lt;int&gt; | Solar.R &lt;int&gt; | Wind &lt;dbl&gt; | Temp &lt;int&gt; | Month &lt;int&gt; | Day &lt;int&gt; |\n|---|---|---|---|---|---|---|\n| 1 |  41 | 190 |  7.4 | 67 | 5 |  1 |\n| 2 |  36 | 118 |  8.0 | 72 | 5 |  2 |\n| 3 |  12 | 149 | 12.6 | 74 | 5 |  3 |\n| 4 |  18 | 313 | 11.5 | 62 | 5 |  4 |\n| 7 |  23 | 299 |  8.6 | 65 | 5 |  7 |\n| 8 |  19 |  99 | 13.8 | 59 | 5 |  8 |\n| 9 |   8 |  19 | 20.1 | 61 | 5 |  9 |\n| 12 |  16 | 256 |  9.7 | 69 | 5 | 12 |\n| 13 |  11 | 290 |  9.2 | 66 | 5 | 13 |\n| 14 |  14 | 274 | 10.9 | 68 | 5 | 14 |\n| 15 |  18 |  65 | 13.2 | 58 | 5 | 15 |\n| 16 |  14 | 334 | 11.5 | 64 | 5 | 16 |\n| 17 |  34 | 307 | 12.0 | 66 | 5 | 17 |\n| 18 |   6 |  78 | 18.4 | 57 | 5 | 18 |\n| 19 |  30 | 322 | 11.5 | 68 | 5 | 19 |\n| 20 |  11 |  44 |  9.7 | 62 | 5 | 20 |\n| 21 |   1 |   8 |  9.7 | 59 | 5 | 21 |\n| 22 |  11 | 320 | 16.6 | 73 | 5 | 22 |\n| 23 |   4 |  25 |  9.7 | 61 | 5 | 23 |\n| 24 |  32 |  92 | 12.0 | 61 | 5 | 24 |\n| 28 |  23 |  13 | 12.0 | 67 | 5 | 28 |\n| 29 |  45 | 252 | 14.9 | 81 | 5 | 29 |\n| 30 | 115 | 223 |  5.7 | 79 | 5 | 30 |\n| 31 |  37 | 279 |  7.4 | 76 | 5 | 31 |\n| 38 |  29 | 127 |  9.7 | 82 | 6 |  7 |\n| 40 |  71 | 291 | 13.8 | 90 | 6 |  9 |\n| 41 |  39 | 323 | 11.5 | 87 | 6 | 10 |\n| 44 |  23 | 148 |  8.0 | 82 | 6 | 13 |\n| 47 |  21 | 191 | 14.9 | 77 | 6 | 16 |\n| 48 |  37 | 284 | 20.7 | 72 | 6 | 17 |\n| ⋮ | ⋮ | ⋮ | ⋮ | ⋮ | ⋮ | ⋮ |\n| 123 | 85 | 188 |  6.3 | 94 | 8 | 31 |\n| 124 | 96 | 167 |  6.9 | 91 | 9 |  1 |\n| 125 | 78 | 197 |  5.1 | 92 | 9 |  2 |\n| 126 | 73 | 183 |  2.8 | 93 | 9 |  3 |\n| 127 | 91 | 189 |  4.6 | 93 | 9 |  4 |\n| 128 | 47 |  95 |  7.4 | 87 | 9 |  5 |\n| 129 | 32 |  92 | 15.5 | 84 | 9 |  6 |\n| 130 | 20 | 252 | 10.9 | 80 | 9 |  7 |\n| 131 | 23 | 220 | 10.3 | 78 | 9 |  8 |\n| 132 | 21 | 230 | 10.9 | 75 | 9 |  9 |\n| 133 | 24 | 259 |  9.7 | 73 | 9 | 10 |\n| 134 | 44 | 236 | 14.9 | 81 | 9 | 11 |\n| 135 | 21 | 259 | 15.5 | 76 | 9 | 12 |\n| 136 | 28 | 238 |  6.3 | 77 | 9 | 13 |\n| 137 |  9 |  24 | 10.9 | 71 | 9 | 14 |\n| 138 | 13 | 112 | 11.5 | 71 | 9 | 15 |\n| 139 | 46 | 237 |  6.9 | 78 | 9 | 16 |\n| 140 | 18 | 224 | 13.8 | 67 | 9 | 17 |\n| 141 | 13 |  27 | 10.3 | 76 | 9 | 18 |\n| 142 | 24 | 238 | 10.3 | 68 | 9 | 19 |\n| 143 | 16 | 201 |  8.0 | 82 | 9 | 20 |\n| 144 | 13 | 238 | 12.6 | 64 | 9 | 21 |\n| 145 | 23 |  14 |  9.2 | 71 | 9 | 22 |\n| 146 | 36 | 139 | 10.3 | 81 | 9 | 23 |\n| 147 |  7 |  49 | 10.3 | 69 | 9 | 24 |\n| 148 | 14 |  20 | 16.6 | 63 | 9 | 25 |\n| 149 | 30 | 193 |  6.9 | 70 | 9 | 26 |\n| 151 | 14 | 191 | 14.3 | 75 | 9 | 28 |\n| 152 | 18 | 131 |  8.0 | 76 | 9 | 29 |\n| 153 | 20 | 223 | 11.5 | 68 | 9 | 30 |\n\n",
            "text/html": [
              "<table class=\"dataframe\">\n",
              "<caption>A data.frame: 111 × 6</caption>\n",
              "<thead>\n",
              "\t<tr><th></th><th scope=col>Ozone</th><th scope=col>Solar.R</th><th scope=col>Wind</th><th scope=col>Temp</th><th scope=col>Month</th><th scope=col>Day</th></tr>\n",
              "\t<tr><th></th><th scope=col>&lt;int&gt;</th><th scope=col>&lt;int&gt;</th><th scope=col>&lt;dbl&gt;</th><th scope=col>&lt;int&gt;</th><th scope=col>&lt;int&gt;</th><th scope=col>&lt;int&gt;</th></tr>\n",
              "</thead>\n",
              "<tbody>\n",
              "\t<tr><th scope=row>1</th><td> 41</td><td>190</td><td> 7.4</td><td>67</td><td>5</td><td> 1</td></tr>\n",
              "\t<tr><th scope=row>2</th><td> 36</td><td>118</td><td> 8.0</td><td>72</td><td>5</td><td> 2</td></tr>\n",
              "\t<tr><th scope=row>3</th><td> 12</td><td>149</td><td>12.6</td><td>74</td><td>5</td><td> 3</td></tr>\n",
              "\t<tr><th scope=row>4</th><td> 18</td><td>313</td><td>11.5</td><td>62</td><td>5</td><td> 4</td></tr>\n",
              "\t<tr><th scope=row>7</th><td> 23</td><td>299</td><td> 8.6</td><td>65</td><td>5</td><td> 7</td></tr>\n",
              "\t<tr><th scope=row>8</th><td> 19</td><td> 99</td><td>13.8</td><td>59</td><td>5</td><td> 8</td></tr>\n",
              "\t<tr><th scope=row>9</th><td>  8</td><td> 19</td><td>20.1</td><td>61</td><td>5</td><td> 9</td></tr>\n",
              "\t<tr><th scope=row>12</th><td> 16</td><td>256</td><td> 9.7</td><td>69</td><td>5</td><td>12</td></tr>\n",
              "\t<tr><th scope=row>13</th><td> 11</td><td>290</td><td> 9.2</td><td>66</td><td>5</td><td>13</td></tr>\n",
              "\t<tr><th scope=row>14</th><td> 14</td><td>274</td><td>10.9</td><td>68</td><td>5</td><td>14</td></tr>\n",
              "\t<tr><th scope=row>15</th><td> 18</td><td> 65</td><td>13.2</td><td>58</td><td>5</td><td>15</td></tr>\n",
              "\t<tr><th scope=row>16</th><td> 14</td><td>334</td><td>11.5</td><td>64</td><td>5</td><td>16</td></tr>\n",
              "\t<tr><th scope=row>17</th><td> 34</td><td>307</td><td>12.0</td><td>66</td><td>5</td><td>17</td></tr>\n",
              "\t<tr><th scope=row>18</th><td>  6</td><td> 78</td><td>18.4</td><td>57</td><td>5</td><td>18</td></tr>\n",
              "\t<tr><th scope=row>19</th><td> 30</td><td>322</td><td>11.5</td><td>68</td><td>5</td><td>19</td></tr>\n",
              "\t<tr><th scope=row>20</th><td> 11</td><td> 44</td><td> 9.7</td><td>62</td><td>5</td><td>20</td></tr>\n",
              "\t<tr><th scope=row>21</th><td>  1</td><td>  8</td><td> 9.7</td><td>59</td><td>5</td><td>21</td></tr>\n",
              "\t<tr><th scope=row>22</th><td> 11</td><td>320</td><td>16.6</td><td>73</td><td>5</td><td>22</td></tr>\n",
              "\t<tr><th scope=row>23</th><td>  4</td><td> 25</td><td> 9.7</td><td>61</td><td>5</td><td>23</td></tr>\n",
              "\t<tr><th scope=row>24</th><td> 32</td><td> 92</td><td>12.0</td><td>61</td><td>5</td><td>24</td></tr>\n",
              "\t<tr><th scope=row>28</th><td> 23</td><td> 13</td><td>12.0</td><td>67</td><td>5</td><td>28</td></tr>\n",
              "\t<tr><th scope=row>29</th><td> 45</td><td>252</td><td>14.9</td><td>81</td><td>5</td><td>29</td></tr>\n",
              "\t<tr><th scope=row>30</th><td>115</td><td>223</td><td> 5.7</td><td>79</td><td>5</td><td>30</td></tr>\n",
              "\t<tr><th scope=row>31</th><td> 37</td><td>279</td><td> 7.4</td><td>76</td><td>5</td><td>31</td></tr>\n",
              "\t<tr><th scope=row>38</th><td> 29</td><td>127</td><td> 9.7</td><td>82</td><td>6</td><td> 7</td></tr>\n",
              "\t<tr><th scope=row>40</th><td> 71</td><td>291</td><td>13.8</td><td>90</td><td>6</td><td> 9</td></tr>\n",
              "\t<tr><th scope=row>41</th><td> 39</td><td>323</td><td>11.5</td><td>87</td><td>6</td><td>10</td></tr>\n",
              "\t<tr><th scope=row>44</th><td> 23</td><td>148</td><td> 8.0</td><td>82</td><td>6</td><td>13</td></tr>\n",
              "\t<tr><th scope=row>47</th><td> 21</td><td>191</td><td>14.9</td><td>77</td><td>6</td><td>16</td></tr>\n",
              "\t<tr><th scope=row>48</th><td> 37</td><td>284</td><td>20.7</td><td>72</td><td>6</td><td>17</td></tr>\n",
              "\t<tr><th scope=row>⋮</th><td>⋮</td><td>⋮</td><td>⋮</td><td>⋮</td><td>⋮</td><td>⋮</td></tr>\n",
              "\t<tr><th scope=row>123</th><td>85</td><td>188</td><td> 6.3</td><td>94</td><td>8</td><td>31</td></tr>\n",
              "\t<tr><th scope=row>124</th><td>96</td><td>167</td><td> 6.9</td><td>91</td><td>9</td><td> 1</td></tr>\n",
              "\t<tr><th scope=row>125</th><td>78</td><td>197</td><td> 5.1</td><td>92</td><td>9</td><td> 2</td></tr>\n",
              "\t<tr><th scope=row>126</th><td>73</td><td>183</td><td> 2.8</td><td>93</td><td>9</td><td> 3</td></tr>\n",
              "\t<tr><th scope=row>127</th><td>91</td><td>189</td><td> 4.6</td><td>93</td><td>9</td><td> 4</td></tr>\n",
              "\t<tr><th scope=row>128</th><td>47</td><td> 95</td><td> 7.4</td><td>87</td><td>9</td><td> 5</td></tr>\n",
              "\t<tr><th scope=row>129</th><td>32</td><td> 92</td><td>15.5</td><td>84</td><td>9</td><td> 6</td></tr>\n",
              "\t<tr><th scope=row>130</th><td>20</td><td>252</td><td>10.9</td><td>80</td><td>9</td><td> 7</td></tr>\n",
              "\t<tr><th scope=row>131</th><td>23</td><td>220</td><td>10.3</td><td>78</td><td>9</td><td> 8</td></tr>\n",
              "\t<tr><th scope=row>132</th><td>21</td><td>230</td><td>10.9</td><td>75</td><td>9</td><td> 9</td></tr>\n",
              "\t<tr><th scope=row>133</th><td>24</td><td>259</td><td> 9.7</td><td>73</td><td>9</td><td>10</td></tr>\n",
              "\t<tr><th scope=row>134</th><td>44</td><td>236</td><td>14.9</td><td>81</td><td>9</td><td>11</td></tr>\n",
              "\t<tr><th scope=row>135</th><td>21</td><td>259</td><td>15.5</td><td>76</td><td>9</td><td>12</td></tr>\n",
              "\t<tr><th scope=row>136</th><td>28</td><td>238</td><td> 6.3</td><td>77</td><td>9</td><td>13</td></tr>\n",
              "\t<tr><th scope=row>137</th><td> 9</td><td> 24</td><td>10.9</td><td>71</td><td>9</td><td>14</td></tr>\n",
              "\t<tr><th scope=row>138</th><td>13</td><td>112</td><td>11.5</td><td>71</td><td>9</td><td>15</td></tr>\n",
              "\t<tr><th scope=row>139</th><td>46</td><td>237</td><td> 6.9</td><td>78</td><td>9</td><td>16</td></tr>\n",
              "\t<tr><th scope=row>140</th><td>18</td><td>224</td><td>13.8</td><td>67</td><td>9</td><td>17</td></tr>\n",
              "\t<tr><th scope=row>141</th><td>13</td><td> 27</td><td>10.3</td><td>76</td><td>9</td><td>18</td></tr>\n",
              "\t<tr><th scope=row>142</th><td>24</td><td>238</td><td>10.3</td><td>68</td><td>9</td><td>19</td></tr>\n",
              "\t<tr><th scope=row>143</th><td>16</td><td>201</td><td> 8.0</td><td>82</td><td>9</td><td>20</td></tr>\n",
              "\t<tr><th scope=row>144</th><td>13</td><td>238</td><td>12.6</td><td>64</td><td>9</td><td>21</td></tr>\n",
              "\t<tr><th scope=row>145</th><td>23</td><td> 14</td><td> 9.2</td><td>71</td><td>9</td><td>22</td></tr>\n",
              "\t<tr><th scope=row>146</th><td>36</td><td>139</td><td>10.3</td><td>81</td><td>9</td><td>23</td></tr>\n",
              "\t<tr><th scope=row>147</th><td> 7</td><td> 49</td><td>10.3</td><td>69</td><td>9</td><td>24</td></tr>\n",
              "\t<tr><th scope=row>148</th><td>14</td><td> 20</td><td>16.6</td><td>63</td><td>9</td><td>25</td></tr>\n",
              "\t<tr><th scope=row>149</th><td>30</td><td>193</td><td> 6.9</td><td>70</td><td>9</td><td>26</td></tr>\n",
              "\t<tr><th scope=row>151</th><td>14</td><td>191</td><td>14.3</td><td>75</td><td>9</td><td>28</td></tr>\n",
              "\t<tr><th scope=row>152</th><td>18</td><td>131</td><td> 8.0</td><td>76</td><td>9</td><td>29</td></tr>\n",
              "\t<tr><th scope=row>153</th><td>20</td><td>223</td><td>11.5</td><td>68</td><td>9</td><td>30</td></tr>\n",
              "</tbody>\n",
              "</table>\n"
            ]
          },
          "metadata": {}
        }
      ]
    },
    {
      "cell_type": "code",
      "source": [
        "parts = createDataPartition(df$Ozone, p = .80, list = F)\n",
        "train = df[parts, ]\n",
        "test = df[-parts, ]"
      ],
      "metadata": {
        "id": "WfQHW4vJwjM1"
      },
      "execution_count": null,
      "outputs": []
    },
    {
      "cell_type": "code",
      "source": [
        "dim(test)"
      ],
      "metadata": {
        "colab": {
          "base_uri": "https://localhost:8080/",
          "height": 34
        },
        "id": "BkbRYD_oworZ",
        "outputId": "d76e2b7b-fade-4e52-9210-bece1b4dc14d"
      },
      "execution_count": null,
      "outputs": [
        {
          "output_type": "display_data",
          "data": {
            "text/plain": [
              "[1] 21  6"
            ],
            "text/latex": "\\begin{enumerate*}\n\\item 21\n\\item 6\n\\end{enumerate*}\n",
            "text/markdown": "1. 21\n2. 6\n\n\n",
            "text/html": [
              "<style>\n",
              ".list-inline {list-style: none; margin:0; padding: 0}\n",
              ".list-inline>li {display: inline-block}\n",
              ".list-inline>li:not(:last-child)::after {content: \"\\00b7\"; padding: 0 .5ex}\n",
              "</style>\n",
              "<ol class=list-inline><li>21</li><li>6</li></ol>\n"
            ]
          },
          "metadata": {}
        }
      ]
    },
    {
      "cell_type": "code",
      "source": [
        "dim(train)"
      ],
      "metadata": {
        "colab": {
          "base_uri": "https://localhost:8080/",
          "height": 34
        },
        "id": "dxP2L5eOwqVZ",
        "outputId": "0f48a321-4154-4720-9d78-3bfd84932348"
      },
      "execution_count": null,
      "outputs": [
        {
          "output_type": "display_data",
          "data": {
            "text/plain": [
              "[1] 90  6"
            ],
            "text/latex": "\\begin{enumerate*}\n\\item 90\n\\item 6\n\\end{enumerate*}\n",
            "text/markdown": "1. 90\n2. 6\n\n\n",
            "text/html": [
              "<style>\n",
              ".list-inline {list-style: none; margin:0; padding: 0}\n",
              ".list-inline>li {display: inline-block}\n",
              ".list-inline>li:not(:last-child)::after {content: \"\\00b7\"; padding: 0 .5ex}\n",
              "</style>\n",
              "<ol class=list-inline><li>90</li><li>6</li></ol>\n"
            ]
          },
          "metadata": {}
        }
      ]
    },
    {
      "cell_type": "code",
      "source": [
        "set.seed(1)"
      ],
      "metadata": {
        "id": "vWkqKlM3wx3R"
      },
      "execution_count": null,
      "outputs": []
    },
    {
      "cell_type": "code",
      "source": [
        "bag <- bagging(\n",
        "  formula = Ozone ~ .,\n",
        "  data = train,\n",
        "  nbagg = 150, \n",
        "  bootstrap= FALSE,  \n",
        "  coob = TRUE,\n",
        "  control = rpart.control(minsplit = 2, cp = 0)\n",
        ")"
      ],
      "metadata": {
        "id": "OdyQciYlFXQe"
      },
      "execution_count": null,
      "outputs": []
    },
    {
      "cell_type": "markdown",
      "source": [
        "Note that we chose to use 150 bootstrapped samples to build the bagged model and we specified coob to be TRUE to obtain the estimated out-of-bag error"
      ],
      "metadata": {
        "id": "12Fq0FXpxAFQ"
      }
    },
    {
      "cell_type": "code",
      "source": [
        "bag"
      ],
      "metadata": {
        "colab": {
          "base_uri": "https://localhost:8080/",
          "height": 156
        },
        "id": "7T2Asd8CFXOX",
        "outputId": "30010404-16af-43c3-b507-f19099910ce8"
      },
      "execution_count": null,
      "outputs": [
        {
          "output_type": "display_data",
          "data": {
            "text/plain": [
              "\n",
              "Bagging regression trees with 150 bootstrap replications \n",
              "\n",
              "Call: bagging.data.frame(formula = Ozone ~ ., data = train, nbagg = 150, \n",
              "    bootstrap = FALSE, coob = TRUE, control = rpart.control(minsplit = 2, \n",
              "        cp = 0))\n",
              "\n",
              "Out-of-bag estimate of root mean squared error:  19.8745 \n"
            ]
          },
          "metadata": {}
        }
      ]
    },
    {
      "cell_type": "code",
      "source": [
        "#define new observation\n",
        "new <- data.frame(Solar.R=150, Wind=8, Temp=70, Month=5, Day=5)"
      ],
      "metadata": {
        "id": "QZHfyFcfFXL8"
      },
      "execution_count": null,
      "outputs": []
    },
    {
      "cell_type": "code",
      "source": [
        "#use fitted bagged model to predict Ozone value of new observation\n",
        "predict(bag, newdata=new)"
      ],
      "metadata": {
        "id": "H0Drljj9FXJt",
        "colab": {
          "base_uri": "https://localhost:8080/",
          "height": 34
        },
        "outputId": "8edadd84-8c5a-42a4-fa47-8fb20a1fef9c"
      },
      "execution_count": null,
      "outputs": [
        {
          "output_type": "display_data",
          "data": {
            "text/plain": [
              "[1] 22.03333"
            ],
            "text/latex": "22.0333333333333",
            "text/markdown": "22.0333333333333",
            "text/html": [
              "22.0333333333333"
            ]
          },
          "metadata": {}
        }
      ]
    },
    {
      "cell_type": "code",
      "source": [
        "pred = data.frame(predict(object = bag, newdata = test[-1]))"
      ],
      "metadata": {
        "id": "4LYutql4FXHW"
      },
      "execution_count": null,
      "outputs": []
    },
    {
      "cell_type": "code",
      "source": [
        "pred"
      ],
      "metadata": {
        "id": "Pjzl4tiwFXE_",
        "colab": {
          "base_uri": "https://localhost:8080/",
          "height": 757
        },
        "outputId": "5fc28a45-da16-4c75-851e-8dcd53645a06"
      },
      "execution_count": null,
      "outputs": [
        {
          "output_type": "display_data",
          "data": {
            "text/plain": [
              "   predict.object...bag..newdata...test..1..\n",
              "1   29.18000                                \n",
              "2   21.77333                                \n",
              "3   19.95333                                \n",
              "4   23.74667                                \n",
              "5   25.16667                                \n",
              "6   11.98000                                \n",
              "7   69.10000                                \n",
              "8   36.52000                                \n",
              "9   87.42000                                \n",
              "10  27.20000                                \n",
              "11  60.38000                                \n",
              "12  22.12000                                \n",
              "13  36.36667                                \n",
              "14  23.31333                                \n",
              "15  11.96667                                \n",
              "16  86.45333                                \n",
              "17 122.86000                                \n",
              "18  76.54667                                \n",
              "19  30.49333                                \n",
              "20  18.26000                                \n",
              "21  46.44000                                "
            ],
            "text/latex": "A data.frame: 21 × 1\n\\begin{tabular}{l}\n predict.object...bag..newdata...test..1..\\\\\n <dbl>\\\\\n\\hline\n\t  29.18000\\\\\n\t  21.77333\\\\\n\t  19.95333\\\\\n\t  23.74667\\\\\n\t  25.16667\\\\\n\t  11.98000\\\\\n\t  69.10000\\\\\n\t  36.52000\\\\\n\t  87.42000\\\\\n\t  27.20000\\\\\n\t  60.38000\\\\\n\t  22.12000\\\\\n\t  36.36667\\\\\n\t  23.31333\\\\\n\t  11.96667\\\\\n\t  86.45333\\\\\n\t 122.86000\\\\\n\t  76.54667\\\\\n\t  30.49333\\\\\n\t  18.26000\\\\\n\t  46.44000\\\\\n\\end{tabular}\n",
            "text/markdown": "\nA data.frame: 21 × 1\n\n| predict.object...bag..newdata...test..1.. &lt;dbl&gt; |\n|---|\n|  29.18000 |\n|  21.77333 |\n|  19.95333 |\n|  23.74667 |\n|  25.16667 |\n|  11.98000 |\n|  69.10000 |\n|  36.52000 |\n|  87.42000 |\n|  27.20000 |\n|  60.38000 |\n|  22.12000 |\n|  36.36667 |\n|  23.31333 |\n|  11.96667 |\n|  86.45333 |\n| 122.86000 |\n|  76.54667 |\n|  30.49333 |\n|  18.26000 |\n|  46.44000 |\n\n",
            "text/html": [
              "<table class=\"dataframe\">\n",
              "<caption>A data.frame: 21 × 1</caption>\n",
              "<thead>\n",
              "\t<tr><th scope=col>predict.object...bag..newdata...test..1..</th></tr>\n",
              "\t<tr><th scope=col>&lt;dbl&gt;</th></tr>\n",
              "</thead>\n",
              "<tbody>\n",
              "\t<tr><td> 29.18000</td></tr>\n",
              "\t<tr><td> 21.77333</td></tr>\n",
              "\t<tr><td> 19.95333</td></tr>\n",
              "\t<tr><td> 23.74667</td></tr>\n",
              "\t<tr><td> 25.16667</td></tr>\n",
              "\t<tr><td> 11.98000</td></tr>\n",
              "\t<tr><td> 69.10000</td></tr>\n",
              "\t<tr><td> 36.52000</td></tr>\n",
              "\t<tr><td> 87.42000</td></tr>\n",
              "\t<tr><td> 27.20000</td></tr>\n",
              "\t<tr><td> 60.38000</td></tr>\n",
              "\t<tr><td> 22.12000</td></tr>\n",
              "\t<tr><td> 36.36667</td></tr>\n",
              "\t<tr><td> 23.31333</td></tr>\n",
              "\t<tr><td> 11.96667</td></tr>\n",
              "\t<tr><td> 86.45333</td></tr>\n",
              "\t<tr><td>122.86000</td></tr>\n",
              "\t<tr><td> 76.54667</td></tr>\n",
              "\t<tr><td> 30.49333</td></tr>\n",
              "\t<tr><td> 18.26000</td></tr>\n",
              "\t<tr><td> 46.44000</td></tr>\n",
              "</tbody>\n",
              "</table>\n"
            ]
          },
          "metadata": {}
        }
      ]
    },
    {
      "cell_type": "code",
      "source": [
        "predict_1=predict(bag, newdata=test[-1])\n"
      ],
      "metadata": {
        "id": "teM3LCqkFXCx"
      },
      "execution_count": null,
      "outputs": []
    },
    {
      "cell_type": "code",
      "source": [
        "mean(test$Ozone-predict_1)"
      ],
      "metadata": {
        "id": "Oce_IziDFXBF",
        "colab": {
          "base_uri": "https://localhost:8080/",
          "height": 34
        },
        "outputId": "1d20f7ee-11b1-4a0e-fd69-03460df84e0c"
      },
      "execution_count": null,
      "outputs": [
        {
          "output_type": "display_data",
          "data": {
            "text/plain": [
              "[1] -3.78381"
            ],
            "text/latex": "-3.78380952380952",
            "text/markdown": "-3.78380952380952",
            "text/html": [
              "-3.78380952380952"
            ]
          },
          "metadata": {}
        }
      ]
    },
    {
      "cell_type": "code",
      "source": [
        "x_axes =seq(1:length(predict_1))\n",
        "plot(x_axes,test$Ozone,type='l',col=\"red\")\n",
        "lines(x_axes,predict_1,col = \"blue\")\n",
        "legend(\"topleft\",legend=c(\"y-original\",\"y-predicted\"),col=c(\"red\",\"blue\"),lty=1,cex=0.8)"
      ],
      "metadata": {
        "colab": {
          "base_uri": "https://localhost:8080/",
          "height": 437
        },
        "id": "AXsYwGRtxeiG",
        "outputId": "ef00afb1-db61-49f8-d456-297a048a67ef"
      },
      "execution_count": null,
      "outputs": [
        {
          "output_type": "display_data",
          "data": {
            "image/png": "[encoded data removed]",
            "text/plain": [
              "plot without title"
            ]
          },
          "metadata": {
            "image/png": {
              "width": 420,
              "height": 420
            }
          }
        }
      ]
    },
    {
      "cell_type": "code",
      "source": [
        ""
      ],
      "metadata": {
        "id": "Q5n2rRsKxnel"
      },
      "execution_count": null,
      "outputs": []
    }
  ]
}