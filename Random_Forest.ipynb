{
  "nbformat": 4,
  "nbformat_minor": 0,
  "metadata": {
    "colab": {
      "name": "Random_Forest.ipynb",
      "provenance": [],
      "collapsed_sections": [],
      "authorship_tag": "ABX9TyNAVoBlfqeIZIwMnIcfjfA8",
      "include_colab_link": true
    },
    "kernelspec": {
      "name": "ir",
      "display_name": "R"
    },
    "language_info": {
      "name": "R"
    }
  },
  "cells": [
    {
      "cell_type": "markdown",
      "metadata": {
        "id": "view-in-github",
        "colab_type": "text"
      },
      "source": [
        "<a href=\"https://colab.research.google.com/github/Aanchalgaur/R/blob/main/Random_Forest.ipynb\" target=\"_parent\"><img src=\"https://colab.research.google.com/assets/colab-badge.svg\" alt=\"Open In Colab\"/></a>"
      ]
    },
    {
      "cell_type": "code",
      "source": [
        "install.packages('caret')\n",
        "library(caret)"
      ],
      "metadata": {
        "colab": {
          "base_uri": "https://localhost:8080/"
        },
        "id": "4RVbrega9pc1",
        "outputId": "acc3ae42-3559-4feb-9ea9-94f405ff1558"
      },
      "execution_count": null,
      "outputs": [
        {
          "output_type": "stream",
          "name": "stderr",
          "text": [
            "Installing package into ‘/usr/local/lib/R/site-library’\n",
            "(as ‘lib’ is unspecified)\n",
            "\n"
          ]
        }
      ]
    },
    {
      "cell_type": "code",
      "execution_count": null,
      "metadata": {
        "id": "CnqkaZiBxBKz"
      },
      "outputs": [],
      "source": [
        "library(tidyverse)"
      ]
    },
    {
      "cell_type": "code",
      "source": [
        "data<-read_csv(\"https://raw.githubusercontent.com/DependerKumarSoni/Iris-Classification-Project/master/Iris_Classification_Project/iris.data\", col_names = FALSE)"
      ],
      "metadata": {
        "id": "cgw6yexFxNe4",
        "colab": {
          "base_uri": "https://localhost:8080/"
        },
        "outputId": "8e4dfd2f-487a-4d63-c793-b35c6d967643"
      },
      "execution_count": null,
      "outputs": [
        {
          "output_type": "stream",
          "name": "stderr",
          "text": [
            "\u001b[1mRows: \u001b[22m\u001b[34m150\u001b[39m \u001b[1mColumns: \u001b[22m\u001b[34m5\u001b[39m\n",
            "\n",
            "\u001b[36m──\u001b[39m \u001b[1mColumn specification\u001b[22m \u001b[36m────────────────────────────────────────────────────────\u001b[39m\n",
            "\u001b[1mDelimiter:\u001b[22m \",\"\n",
            "\u001b[31mchr\u001b[39m (1): X5\n",
            "\u001b[32mdbl\u001b[39m (4): X1, X2, X3, X4\n",
            "\n",
            "\n",
            "\u001b[36mℹ\u001b[39m Use \u001b[30m\u001b[47m\u001b[30m\u001b[47m`spec()`\u001b[47m\u001b[30m\u001b[49m\u001b[39m to retrieve the full column specification for this data.\n",
            "\u001b[36mℹ\u001b[39m Specify the column types or set \u001b[30m\u001b[47m\u001b[30m\u001b[47m`show_col_types = FALSE`\u001b[47m\u001b[30m\u001b[49m\u001b[39m to quiet this message.\n",
            "\n"
          ]
        }
      ]
    },
    {
      "cell_type": "code",
      "source": [
        "data"
      ],
      "metadata": {
        "colab": {
          "base_uri": "https://localhost:8080/",
          "height": 1000
        },
        "id": "iEtH8_aQAILR",
        "outputId": "ca3ae4df-7513-48b0-8e57-e11bad6f0a2f"
      },
      "execution_count": null,
      "outputs": [
        {
          "output_type": "display_data",
          "data": {
            "text/plain": [
              "    X1  X2  X3  X4  X5            \n",
              "1   5.1 3.5 1.4 0.2 Iris-setosa   \n",
              "2   4.9 3.0 1.4 0.2 Iris-setosa   \n",
              "3   4.7 3.2 1.3 0.2 Iris-setosa   \n",
              "4   4.6 3.1 1.5 0.2 Iris-setosa   \n",
              "5   5.0 3.6 1.4 0.2 Iris-setosa   \n",
              "6   5.4 3.9 1.7 0.4 Iris-setosa   \n",
              "7   4.6 3.4 1.4 0.3 Iris-setosa   \n",
              "8   5.0 3.4 1.5 0.2 Iris-setosa   \n",
              "9   4.4 2.9 1.4 0.2 Iris-setosa   \n",
              "10  4.9 3.1 1.5 0.1 Iris-setosa   \n",
              "11  5.4 3.7 1.5 0.2 Iris-setosa   \n",
              "12  4.8 3.4 1.6 0.2 Iris-setosa   \n",
              "13  4.8 3.0 1.4 0.1 Iris-setosa   \n",
              "14  4.3 3.0 1.1 0.1 Iris-setosa   \n",
              "15  5.8 4.0 1.2 0.2 Iris-setosa   \n",
              "16  5.7 4.4 1.5 0.4 Iris-setosa   \n",
              "17  5.4 3.9 1.3 0.4 Iris-setosa   \n",
              "18  5.1 3.5 1.4 0.3 Iris-setosa   \n",
              "19  5.7 3.8 1.7 0.3 Iris-setosa   \n",
              "20  5.1 3.8 1.5 0.3 Iris-setosa   \n",
              "21  5.4 3.4 1.7 0.2 Iris-setosa   \n",
              "22  5.1 3.7 1.5 0.4 Iris-setosa   \n",
              "23  4.6 3.6 1.0 0.2 Iris-setosa   \n",
              "24  5.1 3.3 1.7 0.5 Iris-setosa   \n",
              "25  4.8 3.4 1.9 0.2 Iris-setosa   \n",
              "26  5.0 3.0 1.6 0.2 Iris-setosa   \n",
              "27  5.0 3.4 1.6 0.4 Iris-setosa   \n",
              "28  5.2 3.5 1.5 0.2 Iris-setosa   \n",
              "29  5.2 3.4 1.4 0.2 Iris-setosa   \n",
              "30  4.7 3.2 1.6 0.2 Iris-setosa   \n",
              "⋮   ⋮   ⋮   ⋮   ⋮   ⋮             \n",
              "121 6.9 3.2 5.7 2.3 Iris-virginica\n",
              "122 5.6 2.8 4.9 2.0 Iris-virginica\n",
              "123 7.7 2.8 6.7 2.0 Iris-virginica\n",
              "124 6.3 2.7 4.9 1.8 Iris-virginica\n",
              "125 6.7 3.3 5.7 2.1 Iris-virginica\n",
              "126 7.2 3.2 6.0 1.8 Iris-virginica\n",
              "127 6.2 2.8 4.8 1.8 Iris-virginica\n",
              "128 6.1 3.0 4.9 1.8 Iris-virginica\n",
              "129 6.4 2.8 5.6 2.1 Iris-virginica\n",
              "130 7.2 3.0 5.8 1.6 Iris-virginica\n",
              "131 7.4 2.8 6.1 1.9 Iris-virginica\n",
              "132 7.9 3.8 6.4 2.0 Iris-virginica\n",
              "133 6.4 2.8 5.6 2.2 Iris-virginica\n",
              "134 6.3 2.8 5.1 1.5 Iris-virginica\n",
              "135 6.1 2.6 5.6 1.4 Iris-virginica\n",
              "136 7.7 3.0 6.1 2.3 Iris-virginica\n",
              "137 6.3 3.4 5.6 2.4 Iris-virginica\n",
              "138 6.4 3.1 5.5 1.8 Iris-virginica\n",
              "139 6.0 3.0 4.8 1.8 Iris-virginica\n",
              "140 6.9 3.1 5.4 2.1 Iris-virginica\n",
              "141 6.7 3.1 5.6 2.4 Iris-virginica\n",
              "142 6.9 3.1 5.1 2.3 Iris-virginica\n",
              "143 5.8 2.7 5.1 1.9 Iris-virginica\n",
              "144 6.8 3.2 5.9 2.3 Iris-virginica\n",
              "145 6.7 3.3 5.7 2.5 Iris-virginica\n",
              "146 6.7 3.0 5.2 2.3 Iris-virginica\n",
              "147 6.3 2.5 5.0 1.9 Iris-virginica\n",
              "148 6.5 3.0 5.2 2.0 Iris-virginica\n",
              "149 6.2 3.4 5.4 2.3 Iris-virginica\n",
              "150 5.9 3.0 5.1 1.8 Iris-virginica"
            ],
            "text/latex": "A spec\\_tbl\\_df: 150 × 5\n\\begin{tabular}{lllll}\n X1 & X2 & X3 & X4 & X5\\\\\n <dbl> & <dbl> & <dbl> & <dbl> & <chr>\\\\\n\\hline\n\t 5.1 & 3.5 & 1.4 & 0.2 & Iris-setosa\\\\\n\t 4.9 & 3.0 & 1.4 & 0.2 & Iris-setosa\\\\\n\t 4.7 & 3.2 & 1.3 & 0.2 & Iris-setosa\\\\\n\t 4.6 & 3.1 & 1.5 & 0.2 & Iris-setosa\\\\\n\t 5.0 & 3.6 & 1.4 & 0.2 & Iris-setosa\\\\\n\t 5.4 & 3.9 & 1.7 & 0.4 & Iris-setosa\\\\\n\t 4.6 & 3.4 & 1.4 & 0.3 & Iris-setosa\\\\\n\t 5.0 & 3.4 & 1.5 & 0.2 & Iris-setosa\\\\\n\t 4.4 & 2.9 & 1.4 & 0.2 & Iris-setosa\\\\\n\t 4.9 & 3.1 & 1.5 & 0.1 & Iris-setosa\\\\\n\t 5.4 & 3.7 & 1.5 & 0.2 & Iris-setosa\\\\\n\t 4.8 & 3.4 & 1.6 & 0.2 & Iris-setosa\\\\\n\t 4.8 & 3.0 & 1.4 & 0.1 & Iris-setosa\\\\\n\t 4.3 & 3.0 & 1.1 & 0.1 & Iris-setosa\\\\\n\t 5.8 & 4.0 & 1.2 & 0.2 & Iris-setosa\\\\\n\t 5.7 & 4.4 & 1.5 & 0.4 & Iris-setosa\\\\\n\t 5.4 & 3.9 & 1.3 & 0.4 & Iris-setosa\\\\\n\t 5.1 & 3.5 & 1.4 & 0.3 & Iris-setosa\\\\\n\t 5.7 & 3.8 & 1.7 & 0.3 & Iris-setosa\\\\\n\t 5.1 & 3.8 & 1.5 & 0.3 & Iris-setosa\\\\\n\t 5.4 & 3.4 & 1.7 & 0.2 & Iris-setosa\\\\\n\t 5.1 & 3.7 & 1.5 & 0.4 & Iris-setosa\\\\\n\t 4.6 & 3.6 & 1.0 & 0.2 & Iris-setosa\\\\\n\t 5.1 & 3.3 & 1.7 & 0.5 & Iris-setosa\\\\\n\t 4.8 & 3.4 & 1.9 & 0.2 & Iris-setosa\\\\\n\t 5.0 & 3.0 & 1.6 & 0.2 & Iris-setosa\\\\\n\t 5.0 & 3.4 & 1.6 & 0.4 & Iris-setosa\\\\\n\t 5.2 & 3.5 & 1.5 & 0.2 & Iris-setosa\\\\\n\t 5.2 & 3.4 & 1.4 & 0.2 & Iris-setosa\\\\\n\t 4.7 & 3.2 & 1.6 & 0.2 & Iris-setosa\\\\\n\t ⋮ & ⋮ & ⋮ & ⋮ & ⋮\\\\\n\t 6.9 & 3.2 & 5.7 & 2.3 & Iris-virginica\\\\\n\t 5.6 & 2.8 & 4.9 & 2.0 & Iris-virginica\\\\\n\t 7.7 & 2.8 & 6.7 & 2.0 & Iris-virginica\\\\\n\t 6.3 & 2.7 & 4.9 & 1.8 & Iris-virginica\\\\\n\t 6.7 & 3.3 & 5.7 & 2.1 & Iris-virginica\\\\\n\t 7.2 & 3.2 & 6.0 & 1.8 & Iris-virginica\\\\\n\t 6.2 & 2.8 & 4.8 & 1.8 & Iris-virginica\\\\\n\t 6.1 & 3.0 & 4.9 & 1.8 & Iris-virginica\\\\\n\t 6.4 & 2.8 & 5.6 & 2.1 & Iris-virginica\\\\\n\t 7.2 & 3.0 & 5.8 & 1.6 & Iris-virginica\\\\\n\t 7.4 & 2.8 & 6.1 & 1.9 & Iris-virginica\\\\\n\t 7.9 & 3.8 & 6.4 & 2.0 & Iris-virginica\\\\\n\t 6.4 & 2.8 & 5.6 & 2.2 & Iris-virginica\\\\\n\t 6.3 & 2.8 & 5.1 & 1.5 & Iris-virginica\\\\\n\t 6.1 & 2.6 & 5.6 & 1.4 & Iris-virginica\\\\\n\t 7.7 & 3.0 & 6.1 & 2.3 & Iris-virginica\\\\\n\t 6.3 & 3.4 & 5.6 & 2.4 & Iris-virginica\\\\\n\t 6.4 & 3.1 & 5.5 & 1.8 & Iris-virginica\\\\\n\t 6.0 & 3.0 & 4.8 & 1.8 & Iris-virginica\\\\\n\t 6.9 & 3.1 & 5.4 & 2.1 & Iris-virginica\\\\\n\t 6.7 & 3.1 & 5.6 & 2.4 & Iris-virginica\\\\\n\t 6.9 & 3.1 & 5.1 & 2.3 & Iris-virginica\\\\\n\t 5.8 & 2.7 & 5.1 & 1.9 & Iris-virginica\\\\\n\t 6.8 & 3.2 & 5.9 & 2.3 & Iris-virginica\\\\\n\t 6.7 & 3.3 & 5.7 & 2.5 & Iris-virginica\\\\\n\t 6.7 & 3.0 & 5.2 & 2.3 & Iris-virginica\\\\\n\t 6.3 & 2.5 & 5.0 & 1.9 & Iris-virginica\\\\\n\t 6.5 & 3.0 & 5.2 & 2.0 & Iris-virginica\\\\\n\t 6.2 & 3.4 & 5.4 & 2.3 & Iris-virginica\\\\\n\t 5.9 & 3.0 & 5.1 & 1.8 & Iris-virginica\\\\\n\\end{tabular}\n",
            "text/markdown": "\nA spec_tbl_df: 150 × 5\n\n| X1 &lt;dbl&gt; | X2 &lt;dbl&gt; | X3 &lt;dbl&gt; | X4 &lt;dbl&gt; | X5 &lt;chr&gt; |\n|---|---|---|---|---|\n| 5.1 | 3.5 | 1.4 | 0.2 | Iris-setosa |\n| 4.9 | 3.0 | 1.4 | 0.2 | Iris-setosa |\n| 4.7 | 3.2 | 1.3 | 0.2 | Iris-setosa |\n| 4.6 | 3.1 | 1.5 | 0.2 | Iris-setosa |\n| 5.0 | 3.6 | 1.4 | 0.2 | Iris-setosa |\n| 5.4 | 3.9 | 1.7 | 0.4 | Iris-setosa |\n| 4.6 | 3.4 | 1.4 | 0.3 | Iris-setosa |\n| 5.0 | 3.4 | 1.5 | 0.2 | Iris-setosa |\n| 4.4 | 2.9 | 1.4 | 0.2 | Iris-setosa |\n| 4.9 | 3.1 | 1.5 | 0.1 | Iris-setosa |\n| 5.4 | 3.7 | 1.5 | 0.2 | Iris-setosa |\n| 4.8 | 3.4 | 1.6 | 0.2 | Iris-setosa |\n| 4.8 | 3.0 | 1.4 | 0.1 | Iris-setosa |\n| 4.3 | 3.0 | 1.1 | 0.1 | Iris-setosa |\n| 5.8 | 4.0 | 1.2 | 0.2 | Iris-setosa |\n| 5.7 | 4.4 | 1.5 | 0.4 | Iris-setosa |\n| 5.4 | 3.9 | 1.3 | 0.4 | Iris-setosa |\n| 5.1 | 3.5 | 1.4 | 0.3 | Iris-setosa |\n| 5.7 | 3.8 | 1.7 | 0.3 | Iris-setosa |\n| 5.1 | 3.8 | 1.5 | 0.3 | Iris-setosa |\n| 5.4 | 3.4 | 1.7 | 0.2 | Iris-setosa |\n| 5.1 | 3.7 | 1.5 | 0.4 | Iris-setosa |\n| 4.6 | 3.6 | 1.0 | 0.2 | Iris-setosa |\n| 5.1 | 3.3 | 1.7 | 0.5 | Iris-setosa |\n| 4.8 | 3.4 | 1.9 | 0.2 | Iris-setosa |\n| 5.0 | 3.0 | 1.6 | 0.2 | Iris-setosa |\n| 5.0 | 3.4 | 1.6 | 0.4 | Iris-setosa |\n| 5.2 | 3.5 | 1.5 | 0.2 | Iris-setosa |\n| 5.2 | 3.4 | 1.4 | 0.2 | Iris-setosa |\n| 4.7 | 3.2 | 1.6 | 0.2 | Iris-setosa |\n| ⋮ | ⋮ | ⋮ | ⋮ | ⋮ |\n| 6.9 | 3.2 | 5.7 | 2.3 | Iris-virginica |\n| 5.6 | 2.8 | 4.9 | 2.0 | Iris-virginica |\n| 7.7 | 2.8 | 6.7 | 2.0 | Iris-virginica |\n| 6.3 | 2.7 | 4.9 | 1.8 | Iris-virginica |\n| 6.7 | 3.3 | 5.7 | 2.1 | Iris-virginica |\n| 7.2 | 3.2 | 6.0 | 1.8 | Iris-virginica |\n| 6.2 | 2.8 | 4.8 | 1.8 | Iris-virginica |\n| 6.1 | 3.0 | 4.9 | 1.8 | Iris-virginica |\n| 6.4 | 2.8 | 5.6 | 2.1 | Iris-virginica |\n| 7.2 | 3.0 | 5.8 | 1.6 | Iris-virginica |\n| 7.4 | 2.8 | 6.1 | 1.9 | Iris-virginica |\n| 7.9 | 3.8 | 6.4 | 2.0 | Iris-virginica |\n| 6.4 | 2.8 | 5.6 | 2.2 | Iris-virginica |\n| 6.3 | 2.8 | 5.1 | 1.5 | Iris-virginica |\n| 6.1 | 2.6 | 5.6 | 1.4 | Iris-virginica |\n| 7.7 | 3.0 | 6.1 | 2.3 | Iris-virginica |\n| 6.3 | 3.4 | 5.6 | 2.4 | Iris-virginica |\n| 6.4 | 3.1 | 5.5 | 1.8 | Iris-virginica |\n| 6.0 | 3.0 | 4.8 | 1.8 | Iris-virginica |\n| 6.9 | 3.1 | 5.4 | 2.1 | Iris-virginica |\n| 6.7 | 3.1 | 5.6 | 2.4 | Iris-virginica |\n| 6.9 | 3.1 | 5.1 | 2.3 | Iris-virginica |\n| 5.8 | 2.7 | 5.1 | 1.9 | Iris-virginica |\n| 6.8 | 3.2 | 5.9 | 2.3 | Iris-virginica |\n| 6.7 | 3.3 | 5.7 | 2.5 | Iris-virginica |\n| 6.7 | 3.0 | 5.2 | 2.3 | Iris-virginica |\n| 6.3 | 2.5 | 5.0 | 1.9 | Iris-virginica |\n| 6.5 | 3.0 | 5.2 | 2.0 | Iris-virginica |\n| 6.2 | 3.4 | 5.4 | 2.3 | Iris-virginica |\n| 5.9 | 3.0 | 5.1 | 1.8 | Iris-virginica |\n\n",
            "text/html": [
              "<table class=\"dataframe\">\n",
              "<caption>A spec_tbl_df: 150 × 5</caption>\n",
              "<thead>\n",
              "\t<tr><th scope=col>X1</th><th scope=col>X2</th><th scope=col>X3</th><th scope=col>X4</th><th scope=col>X5</th></tr>\n",
              "\t<tr><th scope=col>&lt;dbl&gt;</th><th scope=col>&lt;dbl&gt;</th><th scope=col>&lt;dbl&gt;</th><th scope=col>&lt;dbl&gt;</th><th scope=col>&lt;chr&gt;</th></tr>\n",
              "</thead>\n",
              "<tbody>\n",
              "\t<tr><td>5.1</td><td>3.5</td><td>1.4</td><td>0.2</td><td>Iris-setosa</td></tr>\n",
              "\t<tr><td>4.9</td><td>3.0</td><td>1.4</td><td>0.2</td><td>Iris-setosa</td></tr>\n",
              "\t<tr><td>4.7</td><td>3.2</td><td>1.3</td><td>0.2</td><td>Iris-setosa</td></tr>\n",
              "\t<tr><td>4.6</td><td>3.1</td><td>1.5</td><td>0.2</td><td>Iris-setosa</td></tr>\n",
              "\t<tr><td>5.0</td><td>3.6</td><td>1.4</td><td>0.2</td><td>Iris-setosa</td></tr>\n",
              "\t<tr><td>5.4</td><td>3.9</td><td>1.7</td><td>0.4</td><td>Iris-setosa</td></tr>\n",
              "\t<tr><td>4.6</td><td>3.4</td><td>1.4</td><td>0.3</td><td>Iris-setosa</td></tr>\n",
              "\t<tr><td>5.0</td><td>3.4</td><td>1.5</td><td>0.2</td><td>Iris-setosa</td></tr>\n",
              "\t<tr><td>4.4</td><td>2.9</td><td>1.4</td><td>0.2</td><td>Iris-setosa</td></tr>\n",
              "\t<tr><td>4.9</td><td>3.1</td><td>1.5</td><td>0.1</td><td>Iris-setosa</td></tr>\n",
              "\t<tr><td>5.4</td><td>3.7</td><td>1.5</td><td>0.2</td><td>Iris-setosa</td></tr>\n",
              "\t<tr><td>4.8</td><td>3.4</td><td>1.6</td><td>0.2</td><td>Iris-setosa</td></tr>\n",
              "\t<tr><td>4.8</td><td>3.0</td><td>1.4</td><td>0.1</td><td>Iris-setosa</td></tr>\n",
              "\t<tr><td>4.3</td><td>3.0</td><td>1.1</td><td>0.1</td><td>Iris-setosa</td></tr>\n",
              "\t<tr><td>5.8</td><td>4.0</td><td>1.2</td><td>0.2</td><td>Iris-setosa</td></tr>\n",
              "\t<tr><td>5.7</td><td>4.4</td><td>1.5</td><td>0.4</td><td>Iris-setosa</td></tr>\n",
              "\t<tr><td>5.4</td><td>3.9</td><td>1.3</td><td>0.4</td><td>Iris-setosa</td></tr>\n",
              "\t<tr><td>5.1</td><td>3.5</td><td>1.4</td><td>0.3</td><td>Iris-setosa</td></tr>\n",
              "\t<tr><td>5.7</td><td>3.8</td><td>1.7</td><td>0.3</td><td>Iris-setosa</td></tr>\n",
              "\t<tr><td>5.1</td><td>3.8</td><td>1.5</td><td>0.3</td><td>Iris-setosa</td></tr>\n",
              "\t<tr><td>5.4</td><td>3.4</td><td>1.7</td><td>0.2</td><td>Iris-setosa</td></tr>\n",
              "\t<tr><td>5.1</td><td>3.7</td><td>1.5</td><td>0.4</td><td>Iris-setosa</td></tr>\n",
              "\t<tr><td>4.6</td><td>3.6</td><td>1.0</td><td>0.2</td><td>Iris-setosa</td></tr>\n",
              "\t<tr><td>5.1</td><td>3.3</td><td>1.7</td><td>0.5</td><td>Iris-setosa</td></tr>\n",
              "\t<tr><td>4.8</td><td>3.4</td><td>1.9</td><td>0.2</td><td>Iris-setosa</td></tr>\n",
              "\t<tr><td>5.0</td><td>3.0</td><td>1.6</td><td>0.2</td><td>Iris-setosa</td></tr>\n",
              "\t<tr><td>5.0</td><td>3.4</td><td>1.6</td><td>0.4</td><td>Iris-setosa</td></tr>\n",
              "\t<tr><td>5.2</td><td>3.5</td><td>1.5</td><td>0.2</td><td>Iris-setosa</td></tr>\n",
              "\t<tr><td>5.2</td><td>3.4</td><td>1.4</td><td>0.2</td><td>Iris-setosa</td></tr>\n",
              "\t<tr><td>4.7</td><td>3.2</td><td>1.6</td><td>0.2</td><td>Iris-setosa</td></tr>\n",
              "\t<tr><td>⋮</td><td>⋮</td><td>⋮</td><td>⋮</td><td>⋮</td></tr>\n",
              "\t<tr><td>6.9</td><td>3.2</td><td>5.7</td><td>2.3</td><td>Iris-virginica</td></tr>\n",
              "\t<tr><td>5.6</td><td>2.8</td><td>4.9</td><td>2.0</td><td>Iris-virginica</td></tr>\n",
              "\t<tr><td>7.7</td><td>2.8</td><td>6.7</td><td>2.0</td><td>Iris-virginica</td></tr>\n",
              "\t<tr><td>6.3</td><td>2.7</td><td>4.9</td><td>1.8</td><td>Iris-virginica</td></tr>\n",
              "\t<tr><td>6.7</td><td>3.3</td><td>5.7</td><td>2.1</td><td>Iris-virginica</td></tr>\n",
              "\t<tr><td>7.2</td><td>3.2</td><td>6.0</td><td>1.8</td><td>Iris-virginica</td></tr>\n",
              "\t<tr><td>6.2</td><td>2.8</td><td>4.8</td><td>1.8</td><td>Iris-virginica</td></tr>\n",
              "\t<tr><td>6.1</td><td>3.0</td><td>4.9</td><td>1.8</td><td>Iris-virginica</td></tr>\n",
              "\t<tr><td>6.4</td><td>2.8</td><td>5.6</td><td>2.1</td><td>Iris-virginica</td></tr>\n",
              "\t<tr><td>7.2</td><td>3.0</td><td>5.8</td><td>1.6</td><td>Iris-virginica</td></tr>\n",
              "\t<tr><td>7.4</td><td>2.8</td><td>6.1</td><td>1.9</td><td>Iris-virginica</td></tr>\n",
              "\t<tr><td>7.9</td><td>3.8</td><td>6.4</td><td>2.0</td><td>Iris-virginica</td></tr>\n",
              "\t<tr><td>6.4</td><td>2.8</td><td>5.6</td><td>2.2</td><td>Iris-virginica</td></tr>\n",
              "\t<tr><td>6.3</td><td>2.8</td><td>5.1</td><td>1.5</td><td>Iris-virginica</td></tr>\n",
              "\t<tr><td>6.1</td><td>2.6</td><td>5.6</td><td>1.4</td><td>Iris-virginica</td></tr>\n",
              "\t<tr><td>7.7</td><td>3.0</td><td>6.1</td><td>2.3</td><td>Iris-virginica</td></tr>\n",
              "\t<tr><td>6.3</td><td>3.4</td><td>5.6</td><td>2.4</td><td>Iris-virginica</td></tr>\n",
              "\t<tr><td>6.4</td><td>3.1</td><td>5.5</td><td>1.8</td><td>Iris-virginica</td></tr>\n",
              "\t<tr><td>6.0</td><td>3.0</td><td>4.8</td><td>1.8</td><td>Iris-virginica</td></tr>\n",
              "\t<tr><td>6.9</td><td>3.1</td><td>5.4</td><td>2.1</td><td>Iris-virginica</td></tr>\n",
              "\t<tr><td>6.7</td><td>3.1</td><td>5.6</td><td>2.4</td><td>Iris-virginica</td></tr>\n",
              "\t<tr><td>6.9</td><td>3.1</td><td>5.1</td><td>2.3</td><td>Iris-virginica</td></tr>\n",
              "\t<tr><td>5.8</td><td>2.7</td><td>5.1</td><td>1.9</td><td>Iris-virginica</td></tr>\n",
              "\t<tr><td>6.8</td><td>3.2</td><td>5.9</td><td>2.3</td><td>Iris-virginica</td></tr>\n",
              "\t<tr><td>6.7</td><td>3.3</td><td>5.7</td><td>2.5</td><td>Iris-virginica</td></tr>\n",
              "\t<tr><td>6.7</td><td>3.0</td><td>5.2</td><td>2.3</td><td>Iris-virginica</td></tr>\n",
              "\t<tr><td>6.3</td><td>2.5</td><td>5.0</td><td>1.9</td><td>Iris-virginica</td></tr>\n",
              "\t<tr><td>6.5</td><td>3.0</td><td>5.2</td><td>2.0</td><td>Iris-virginica</td></tr>\n",
              "\t<tr><td>6.2</td><td>3.4</td><td>5.4</td><td>2.3</td><td>Iris-virginica</td></tr>\n",
              "\t<tr><td>5.9</td><td>3.0</td><td>5.1</td><td>1.8</td><td>Iris-virginica</td></tr>\n",
              "</tbody>\n",
              "</table>\n"
            ]
          },
          "metadata": {}
        }
      ]
    },
    {
      "cell_type": "code",
      "source": [
        "head(data)"
      ],
      "metadata": {
        "colab": {
          "base_uri": "https://localhost:8080/",
          "height": 286
        },
        "id": "xC_C1wYxxU0J",
        "outputId": "0ebed8b7-3452-45bf-f312-f86202b23fc7"
      },
      "execution_count": null,
      "outputs": [
        {
          "output_type": "display_data",
          "data": {
            "text/plain": [
              "  X1  X2  X3  X4  X5         \n",
              "1 5.1 3.5 1.4 0.2 Iris-setosa\n",
              "2 4.9 3.0 1.4 0.2 Iris-setosa\n",
              "3 4.7 3.2 1.3 0.2 Iris-setosa\n",
              "4 4.6 3.1 1.5 0.2 Iris-setosa\n",
              "5 5.0 3.6 1.4 0.2 Iris-setosa\n",
              "6 5.4 3.9 1.7 0.4 Iris-setosa"
            ],
            "text/latex": "A tibble: 6 × 5\n\\begin{tabular}{lllll}\n X1 & X2 & X3 & X4 & X5\\\\\n <dbl> & <dbl> & <dbl> & <dbl> & <chr>\\\\\n\\hline\n\t 5.1 & 3.5 & 1.4 & 0.2 & Iris-setosa\\\\\n\t 4.9 & 3.0 & 1.4 & 0.2 & Iris-setosa\\\\\n\t 4.7 & 3.2 & 1.3 & 0.2 & Iris-setosa\\\\\n\t 4.6 & 3.1 & 1.5 & 0.2 & Iris-setosa\\\\\n\t 5.0 & 3.6 & 1.4 & 0.2 & Iris-setosa\\\\\n\t 5.4 & 3.9 & 1.7 & 0.4 & Iris-setosa\\\\\n\\end{tabular}\n",
            "text/markdown": "\nA tibble: 6 × 5\n\n| X1 &lt;dbl&gt; | X2 &lt;dbl&gt; | X3 &lt;dbl&gt; | X4 &lt;dbl&gt; | X5 &lt;chr&gt; |\n|---|---|---|---|---|\n| 5.1 | 3.5 | 1.4 | 0.2 | Iris-setosa |\n| 4.9 | 3.0 | 1.4 | 0.2 | Iris-setosa |\n| 4.7 | 3.2 | 1.3 | 0.2 | Iris-setosa |\n| 4.6 | 3.1 | 1.5 | 0.2 | Iris-setosa |\n| 5.0 | 3.6 | 1.4 | 0.2 | Iris-setosa |\n| 5.4 | 3.9 | 1.7 | 0.4 | Iris-setosa |\n\n",
            "text/html": [
              "<table class=\"dataframe\">\n",
              "<caption>A tibble: 6 × 5</caption>\n",
              "<thead>\n",
              "\t<tr><th scope=col>X1</th><th scope=col>X2</th><th scope=col>X3</th><th scope=col>X4</th><th scope=col>X5</th></tr>\n",
              "\t<tr><th scope=col>&lt;dbl&gt;</th><th scope=col>&lt;dbl&gt;</th><th scope=col>&lt;dbl&gt;</th><th scope=col>&lt;dbl&gt;</th><th scope=col>&lt;chr&gt;</th></tr>\n",
              "</thead>\n",
              "<tbody>\n",
              "\t<tr><td>5.1</td><td>3.5</td><td>1.4</td><td>0.2</td><td>Iris-setosa</td></tr>\n",
              "\t<tr><td>4.9</td><td>3.0</td><td>1.4</td><td>0.2</td><td>Iris-setosa</td></tr>\n",
              "\t<tr><td>4.7</td><td>3.2</td><td>1.3</td><td>0.2</td><td>Iris-setosa</td></tr>\n",
              "\t<tr><td>4.6</td><td>3.1</td><td>1.5</td><td>0.2</td><td>Iris-setosa</td></tr>\n",
              "\t<tr><td>5.0</td><td>3.6</td><td>1.4</td><td>0.2</td><td>Iris-setosa</td></tr>\n",
              "\t<tr><td>5.4</td><td>3.9</td><td>1.7</td><td>0.4</td><td>Iris-setosa</td></tr>\n",
              "</tbody>\n",
              "</table>\n"
            ]
          },
          "metadata": {}
        }
      ]
    },
    {
      "cell_type": "code",
      "source": [
        "unique(data$X5)"
      ],
      "metadata": {
        "colab": {
          "base_uri": "https://localhost:8080/",
          "height": 34
        },
        "id": "w4Fot4q2xXRH",
        "outputId": "1398a343-6cba-45a6-837e-795255cb9525"
      },
      "execution_count": null,
      "outputs": [
        {
          "output_type": "display_data",
          "data": {
            "text/plain": [
              "[1] \"Iris-setosa\"     \"Iris-versicolor\" \"Iris-virginica\" "
            ],
            "text/latex": "\\begin{enumerate*}\n\\item 'Iris-setosa'\n\\item 'Iris-versicolor'\n\\item 'Iris-virginica'\n\\end{enumerate*}\n",
            "text/markdown": "1. 'Iris-setosa'\n2. 'Iris-versicolor'\n3. 'Iris-virginica'\n\n\n",
            "text/html": [
              "<style>\n",
              ".list-inline {list-style: none; margin:0; padding: 0}\n",
              ".list-inline>li {display: inline-block}\n",
              ".list-inline>li:not(:last-child)::after {content: \"\\00b7\"; padding: 0 .5ex}\n",
              "</style>\n",
              "<ol class=list-inline><li>'Iris-setosa'</li><li>'Iris-versicolor'</li><li>'Iris-virginica'</li></ol>\n"
            ]
          },
          "metadata": {}
        }
      ]
    },
    {
      "cell_type": "code",
      "source": [
        "data$X5 = factor(data$X5, levels = c('Iris-setosa','Iris-versicolor','Iris-virginica'))"
      ],
      "metadata": {
        "id": "rHFPXcl7x11C"
      },
      "execution_count": null,
      "outputs": []
    },
    {
      "cell_type": "code",
      "source": [
        "class(data$X5)"
      ],
      "metadata": {
        "colab": {
          "base_uri": "https://localhost:8080/",
          "height": 34
        },
        "id": "APAHf6BbAwxa",
        "outputId": "27030f14-0c9f-4837-c566-f0b1ff4a8559"
      },
      "execution_count": null,
      "outputs": [
        {
          "output_type": "display_data",
          "data": {
            "text/plain": [
              "[1] \"factor\""
            ],
            "text/latex": "'factor'",
            "text/markdown": "'factor'",
            "text/html": [
              "'factor'"
            ]
          },
          "metadata": {}
        }
      ]
    },
    {
      "cell_type": "code",
      "source": [
        "head(data)"
      ],
      "metadata": {
        "colab": {
          "base_uri": "https://localhost:8080/",
          "height": 286
        },
        "id": "Z3BZwV_Rx9Np",
        "outputId": "411aad4c-60c9-4c06-9d6f-e6706cc93bb5"
      },
      "execution_count": null,
      "outputs": [
        {
          "output_type": "display_data",
          "data": {
            "text/plain": [
              "  X1  X2  X3  X4  X5         \n",
              "1 5.1 3.5 1.4 0.2 Iris-setosa\n",
              "2 4.9 3.0 1.4 0.2 Iris-setosa\n",
              "3 4.7 3.2 1.3 0.2 Iris-setosa\n",
              "4 4.6 3.1 1.5 0.2 Iris-setosa\n",
              "5 5.0 3.6 1.4 0.2 Iris-setosa\n",
              "6 5.4 3.9 1.7 0.4 Iris-setosa"
            ],
            "text/latex": "A tibble: 6 × 5\n\\begin{tabular}{lllll}\n X1 & X2 & X3 & X4 & X5\\\\\n <dbl> & <dbl> & <dbl> & <dbl> & <fct>\\\\\n\\hline\n\t 5.1 & 3.5 & 1.4 & 0.2 & Iris-setosa\\\\\n\t 4.9 & 3.0 & 1.4 & 0.2 & Iris-setosa\\\\\n\t 4.7 & 3.2 & 1.3 & 0.2 & Iris-setosa\\\\\n\t 4.6 & 3.1 & 1.5 & 0.2 & Iris-setosa\\\\\n\t 5.0 & 3.6 & 1.4 & 0.2 & Iris-setosa\\\\\n\t 5.4 & 3.9 & 1.7 & 0.4 & Iris-setosa\\\\\n\\end{tabular}\n",
            "text/markdown": "\nA tibble: 6 × 5\n\n| X1 &lt;dbl&gt; | X2 &lt;dbl&gt; | X3 &lt;dbl&gt; | X4 &lt;dbl&gt; | X5 &lt;fct&gt; |\n|---|---|---|---|---|\n| 5.1 | 3.5 | 1.4 | 0.2 | Iris-setosa |\n| 4.9 | 3.0 | 1.4 | 0.2 | Iris-setosa |\n| 4.7 | 3.2 | 1.3 | 0.2 | Iris-setosa |\n| 4.6 | 3.1 | 1.5 | 0.2 | Iris-setosa |\n| 5.0 | 3.6 | 1.4 | 0.2 | Iris-setosa |\n| 5.4 | 3.9 | 1.7 | 0.4 | Iris-setosa |\n\n",
            "text/html": [
              "<table class=\"dataframe\">\n",
              "<caption>A tibble: 6 × 5</caption>\n",
              "<thead>\n",
              "\t<tr><th scope=col>X1</th><th scope=col>X2</th><th scope=col>X3</th><th scope=col>X4</th><th scope=col>X5</th></tr>\n",
              "\t<tr><th scope=col>&lt;dbl&gt;</th><th scope=col>&lt;dbl&gt;</th><th scope=col>&lt;dbl&gt;</th><th scope=col>&lt;dbl&gt;</th><th scope=col>&lt;fct&gt;</th></tr>\n",
              "</thead>\n",
              "<tbody>\n",
              "\t<tr><td>5.1</td><td>3.5</td><td>1.4</td><td>0.2</td><td>Iris-setosa</td></tr>\n",
              "\t<tr><td>4.9</td><td>3.0</td><td>1.4</td><td>0.2</td><td>Iris-setosa</td></tr>\n",
              "\t<tr><td>4.7</td><td>3.2</td><td>1.3</td><td>0.2</td><td>Iris-setosa</td></tr>\n",
              "\t<tr><td>4.6</td><td>3.1</td><td>1.5</td><td>0.2</td><td>Iris-setosa</td></tr>\n",
              "\t<tr><td>5.0</td><td>3.6</td><td>1.4</td><td>0.2</td><td>Iris-setosa</td></tr>\n",
              "\t<tr><td>5.4</td><td>3.9</td><td>1.7</td><td>0.4</td><td>Iris-setosa</td></tr>\n",
              "</tbody>\n",
              "</table>\n"
            ]
          },
          "metadata": {}
        }
      ]
    },
    {
      "cell_type": "code",
      "source": [
        "#testing and tranining split\n",
        "set.seed(2)\n",
        "parts = createDataPartition(data$X5, p = .80, list = F)\n",
        "train = data[parts, ]\n",
        "test = data[-parts, ]"
      ],
      "metadata": {
        "id": "3Z3cFVan0EN3"
      },
      "execution_count": null,
      "outputs": []
    },
    {
      "cell_type": "code",
      "source": [
        "dim(train)"
      ],
      "metadata": {
        "colab": {
          "base_uri": "https://localhost:8080/",
          "height": 34
        },
        "id": "RFc4a96F0eQw",
        "outputId": "241e6d22-56a1-4949-ce71-9b8f191557d8"
      },
      "execution_count": null,
      "outputs": [
        {
          "output_type": "display_data",
          "data": {
            "text/plain": [
              "[1] 120   5"
            ],
            "text/latex": "\\begin{enumerate*}\n\\item 120\n\\item 5\n\\end{enumerate*}\n",
            "text/markdown": "1. 120\n2. 5\n\n\n",
            "text/html": [
              "<style>\n",
              ".list-inline {list-style: none; margin:0; padding: 0}\n",
              ".list-inline>li {display: inline-block}\n",
              ".list-inline>li:not(:last-child)::after {content: \"\\00b7\"; padding: 0 .5ex}\n",
              "</style>\n",
              "<ol class=list-inline><li>120</li><li>5</li></ol>\n"
            ]
          },
          "metadata": {}
        }
      ]
    },
    {
      "cell_type": "code",
      "source": [
        "length(train)"
      ],
      "metadata": {
        "colab": {
          "base_uri": "https://localhost:8080/",
          "height": 34
        },
        "id": "pxwD0oWpB6yQ",
        "outputId": "f33e65ee-be69-4081-b11e-590e233b363a"
      },
      "execution_count": null,
      "outputs": [
        {
          "output_type": "display_data",
          "data": {
            "text/plain": [
              "[1] 5"
            ],
            "text/latex": "5",
            "text/markdown": "5",
            "text/html": [
              "5"
            ]
          },
          "metadata": {}
        }
      ]
    },
    {
      "cell_type": "code",
      "source": [
        "install.packages(\"randomForest\", dependencies = T)\n",
        "library(randomForest)"
      ],
      "metadata": {
        "colab": {
          "base_uri": "https://localhost:8080/"
        },
        "id": "qZGV3lqd3ygm",
        "outputId": "cde1d919-f00d-473e-d856-e1dbf23acff9"
      },
      "execution_count": null,
      "outputs": [
        {
          "output_type": "stream",
          "name": "stderr",
          "text": [
            "Installing package into ‘/usr/local/lib/R/site-library’\n",
            "(as ‘lib’ is unspecified)\n",
            "\n",
            "randomForest 4.6-14\n",
            "\n",
            "Type rfNews() to see new features/changes/bug fixes.\n",
            "\n",
            "\n",
            "Attaching package: ‘randomForest’\n",
            "\n",
            "\n",
            "The following object is masked from ‘package:dplyr’:\n",
            "\n",
            "    combine\n",
            "\n",
            "\n",
            "The following object is masked from ‘package:ggplot2’:\n",
            "\n",
            "    margin\n",
            "\n",
            "\n"
          ]
        }
      ]
    },
    {
      "cell_type": "code",
      "source": [
        "# #Training the random forest model"
      ],
      "metadata": {
        "id": "530wJD752gRT"
      },
      "execution_count": null,
      "outputs": []
    },
    {
      "cell_type": "code",
      "source": [
        "\n",
        "model_rf = randomForest(X5~., data = train, importance = TRUE)"
      ],
      "metadata": {
        "id": "jctiAokoGhKI"
      },
      "execution_count": null,
      "outputs": []
    },
    {
      "cell_type": "code",
      "source": [
        "print(names(model_rf))"
      ],
      "metadata": {
        "colab": {
          "base_uri": "https://localhost:8080/"
        },
        "id": "2JhS4FYN_IKF",
        "outputId": "a5fb5133-6b19-4974-c746-911332d64720"
      },
      "execution_count": null,
      "outputs": [
        {
          "output_type": "stream",
          "name": "stdout",
          "text": [
            " [1] \"call\"            \"type\"            \"predicted\"       \"err.rate\"       \n",
            " [5] \"confusion\"       \"votes\"           \"oob.times\"       \"classes\"        \n",
            " [9] \"importance\"      \"importanceSD\"    \"localImportance\" \"proximity\"      \n",
            "[13] \"ntree\"           \"mtry\"            \"forest\"          \"y\"              \n",
            "[17] \"test\"            \"inbag\"           \"terms\"          \n"
          ]
        }
      ]
    },
    {
      "cell_type": "code",
      "source": [
        "print(model_rf)"
      ],
      "metadata": {
        "id": "o9KFx4wJ2lHz",
        "colab": {
          "base_uri": "https://localhost:8080/"
        },
        "outputId": "7b4fc341-b13c-45e6-cac1-b51aba8e09ec"
      },
      "execution_count": null,
      "outputs": [
        {
          "output_type": "stream",
          "name": "stdout",
          "text": [
            "\n",
            "Call:\n",
            " randomForest(formula = X5 ~ ., data = train, importance = TRUE) \n",
            "               Type of random forest: classification\n",
            "                     Number of trees: 500\n",
            "No. of variables tried at each split: 2\n",
            "\n",
            "        OOB estimate of  error rate: 5.83%\n",
            "Confusion matrix:\n",
            "                Iris-setosa Iris-versicolor Iris-virginica class.error\n",
            "Iris-setosa              40               0              0       0.000\n",
            "Iris-versicolor           0              37              3       0.075\n",
            "Iris-virginica            0               4             36       0.100\n"
          ]
        }
      ]
    },
    {
      "cell_type": "code",
      "source": [
        "pred = data.frame(predict(object = model_rf, newdata = test[-5]))"
      ],
      "metadata": {
        "id": "XAkj6mQL4I_p"
      },
      "execution_count": null,
      "outputs": []
    },
    {
      "cell_type": "code",
      "source": [
        "pred"
      ],
      "metadata": {
        "colab": {
          "base_uri": "https://localhost:8080/",
          "height": 1000
        },
        "id": "XsBuKF3G4yGI",
        "outputId": "e3e39cbc-f032-4832-df2b-5654c257fe3e"
      },
      "execution_count": null,
      "outputs": [
        {
          "output_type": "display_data",
          "data": {
            "text/plain": [
              "   predict.object...model_rf..newdata...test..5..\n",
              "1  Iris-setosa                                   \n",
              "2  Iris-setosa                                   \n",
              "3  Iris-setosa                                   \n",
              "4  Iris-setosa                                   \n",
              "5  Iris-setosa                                   \n",
              "6  Iris-setosa                                   \n",
              "7  Iris-setosa                                   \n",
              "8  Iris-setosa                                   \n",
              "9  Iris-setosa                                   \n",
              "10 Iris-setosa                                   \n",
              "11 Iris-versicolor                               \n",
              "12 Iris-versicolor                               \n",
              "13 Iris-versicolor                               \n",
              "14 Iris-versicolor                               \n",
              "15 Iris-versicolor                               \n",
              "16 Iris-versicolor                               \n",
              "17 Iris-versicolor                               \n",
              "18 Iris-versicolor                               \n",
              "19 Iris-versicolor                               \n",
              "20 Iris-versicolor                               \n",
              "21 Iris-virginica                                \n",
              "22 Iris-virginica                                \n",
              "23 Iris-virginica                                \n",
              "24 Iris-virginica                                \n",
              "25 Iris-virginica                                \n",
              "26 Iris-versicolor                               \n",
              "27 Iris-versicolor                               \n",
              "28 Iris-virginica                                \n",
              "29 Iris-virginica                                \n",
              "30 Iris-virginica                                "
            ],
            "text/latex": "A data.frame: 30 × 1\n\\begin{tabular}{r|l}\n  & predict.object...model\\_rf..newdata...test..5..\\\\\n  & <fct>\\\\\n\\hline\n\t1 & Iris-setosa    \\\\\n\t2 & Iris-setosa    \\\\\n\t3 & Iris-setosa    \\\\\n\t4 & Iris-setosa    \\\\\n\t5 & Iris-setosa    \\\\\n\t6 & Iris-setosa    \\\\\n\t7 & Iris-setosa    \\\\\n\t8 & Iris-setosa    \\\\\n\t9 & Iris-setosa    \\\\\n\t10 & Iris-setosa    \\\\\n\t11 & Iris-versicolor\\\\\n\t12 & Iris-versicolor\\\\\n\t13 & Iris-versicolor\\\\\n\t14 & Iris-versicolor\\\\\n\t15 & Iris-versicolor\\\\\n\t16 & Iris-versicolor\\\\\n\t17 & Iris-versicolor\\\\\n\t18 & Iris-versicolor\\\\\n\t19 & Iris-versicolor\\\\\n\t20 & Iris-versicolor\\\\\n\t21 & Iris-virginica \\\\\n\t22 & Iris-virginica \\\\\n\t23 & Iris-virginica \\\\\n\t24 & Iris-virginica \\\\\n\t25 & Iris-virginica \\\\\n\t26 & Iris-versicolor\\\\\n\t27 & Iris-versicolor\\\\\n\t28 & Iris-virginica \\\\\n\t29 & Iris-virginica \\\\\n\t30 & Iris-virginica \\\\\n\\end{tabular}\n",
            "text/markdown": "\nA data.frame: 30 × 1\n\n| <!--/--> | predict.object...model_rf..newdata...test..5.. &lt;fct&gt; |\n|---|---|\n| 1 | Iris-setosa     |\n| 2 | Iris-setosa     |\n| 3 | Iris-setosa     |\n| 4 | Iris-setosa     |\n| 5 | Iris-setosa     |\n| 6 | Iris-setosa     |\n| 7 | Iris-setosa     |\n| 8 | Iris-setosa     |\n| 9 | Iris-setosa     |\n| 10 | Iris-setosa     |\n| 11 | Iris-versicolor |\n| 12 | Iris-versicolor |\n| 13 | Iris-versicolor |\n| 14 | Iris-versicolor |\n| 15 | Iris-versicolor |\n| 16 | Iris-versicolor |\n| 17 | Iris-versicolor |\n| 18 | Iris-versicolor |\n| 19 | Iris-versicolor |\n| 20 | Iris-versicolor |\n| 21 | Iris-virginica  |\n| 22 | Iris-virginica  |\n| 23 | Iris-virginica  |\n| 24 | Iris-virginica  |\n| 25 | Iris-virginica  |\n| 26 | Iris-versicolor |\n| 27 | Iris-versicolor |\n| 28 | Iris-virginica  |\n| 29 | Iris-virginica  |\n| 30 | Iris-virginica  |\n\n",
            "text/html": [
              "<table class=\"dataframe\">\n",
              "<caption>A data.frame: 30 × 1</caption>\n",
              "<thead>\n",
              "\t<tr><th></th><th scope=col>predict.object...model_rf..newdata...test..5..</th></tr>\n",
              "\t<tr><th></th><th scope=col>&lt;fct&gt;</th></tr>\n",
              "</thead>\n",
              "<tbody>\n",
              "\t<tr><th scope=row>1</th><td>Iris-setosa    </td></tr>\n",
              "\t<tr><th scope=row>2</th><td>Iris-setosa    </td></tr>\n",
              "\t<tr><th scope=row>3</th><td>Iris-setosa    </td></tr>\n",
              "\t<tr><th scope=row>4</th><td>Iris-setosa    </td></tr>\n",
              "\t<tr><th scope=row>5</th><td>Iris-setosa    </td></tr>\n",
              "\t<tr><th scope=row>6</th><td>Iris-setosa    </td></tr>\n",
              "\t<tr><th scope=row>7</th><td>Iris-setosa    </td></tr>\n",
              "\t<tr><th scope=row>8</th><td>Iris-setosa    </td></tr>\n",
              "\t<tr><th scope=row>9</th><td>Iris-setosa    </td></tr>\n",
              "\t<tr><th scope=row>10</th><td>Iris-setosa    </td></tr>\n",
              "\t<tr><th scope=row>11</th><td>Iris-versicolor</td></tr>\n",
              "\t<tr><th scope=row>12</th><td>Iris-versicolor</td></tr>\n",
              "\t<tr><th scope=row>13</th><td>Iris-versicolor</td></tr>\n",
              "\t<tr><th scope=row>14</th><td>Iris-versicolor</td></tr>\n",
              "\t<tr><th scope=row>15</th><td>Iris-versicolor</td></tr>\n",
              "\t<tr><th scope=row>16</th><td>Iris-versicolor</td></tr>\n",
              "\t<tr><th scope=row>17</th><td>Iris-versicolor</td></tr>\n",
              "\t<tr><th scope=row>18</th><td>Iris-versicolor</td></tr>\n",
              "\t<tr><th scope=row>19</th><td>Iris-versicolor</td></tr>\n",
              "\t<tr><th scope=row>20</th><td>Iris-versicolor</td></tr>\n",
              "\t<tr><th scope=row>21</th><td>Iris-virginica </td></tr>\n",
              "\t<tr><th scope=row>22</th><td>Iris-virginica </td></tr>\n",
              "\t<tr><th scope=row>23</th><td>Iris-virginica </td></tr>\n",
              "\t<tr><th scope=row>24</th><td>Iris-virginica </td></tr>\n",
              "\t<tr><th scope=row>25</th><td>Iris-virginica </td></tr>\n",
              "\t<tr><th scope=row>26</th><td>Iris-versicolor</td></tr>\n",
              "\t<tr><th scope=row>27</th><td>Iris-versicolor</td></tr>\n",
              "\t<tr><th scope=row>28</th><td>Iris-virginica </td></tr>\n",
              "\t<tr><th scope=row>29</th><td>Iris-virginica </td></tr>\n",
              "\t<tr><th scope=row>30</th><td>Iris-virginica </td></tr>\n",
              "</tbody>\n",
              "</table>\n"
            ]
          },
          "metadata": {}
        }
      ]
    },
    {
      "cell_type": "code",
      "source": [
        "model_rf$confusion"
      ],
      "metadata": {
        "colab": {
          "base_uri": "https://localhost:8080/",
          "height": 161
        },
        "id": "wokjY5-Y48Oe",
        "outputId": "841164b3-ee8b-485f-a3a1-3df1891d733a"
      },
      "execution_count": null,
      "outputs": [
        {
          "output_type": "display_data",
          "data": {
            "text/plain": [
              "                Iris-setosa Iris-versicolor Iris-virginica class.error\n",
              "Iris-setosa     40           0               0             0.000      \n",
              "Iris-versicolor  0          37               3             0.075      \n",
              "Iris-virginica   0           4              36             0.100      "
            ],
            "text/latex": "A matrix: 3 × 4 of type dbl\n\\begin{tabular}{r|llll}\n  & Iris-setosa & Iris-versicolor & Iris-virginica & class.error\\\\\n\\hline\n\tIris-setosa & 40 &  0 &  0 & 0.000\\\\\n\tIris-versicolor &  0 & 37 &  3 & 0.075\\\\\n\tIris-virginica &  0 &  4 & 36 & 0.100\\\\\n\\end{tabular}\n",
            "text/markdown": "\nA matrix: 3 × 4 of type dbl\n\n| <!--/--> | Iris-setosa | Iris-versicolor | Iris-virginica | class.error |\n|---|---|---|---|---|\n| Iris-setosa | 40 |  0 |  0 | 0.000 |\n| Iris-versicolor |  0 | 37 |  3 | 0.075 |\n| Iris-virginica |  0 |  4 | 36 | 0.100 |\n\n",
            "text/html": [
              "<table class=\"dataframe\">\n",
              "<caption>A matrix: 3 × 4 of type dbl</caption>\n",
              "<thead>\n",
              "\t<tr><th></th><th scope=col>Iris-setosa</th><th scope=col>Iris-versicolor</th><th scope=col>Iris-virginica</th><th scope=col>class.error</th></tr>\n",
              "</thead>\n",
              "<tbody>\n",
              "\t<tr><th scope=row>Iris-setosa</th><td>40</td><td> 0</td><td> 0</td><td>0.000</td></tr>\n",
              "\t<tr><th scope=row>Iris-versicolor</th><td> 0</td><td>37</td><td> 3</td><td>0.075</td></tr>\n",
              "\t<tr><th scope=row>Iris-virginica</th><td> 0</td><td> 4</td><td>36</td><td>0.100</td></tr>\n",
              "</tbody>\n",
              "</table>\n"
            ]
          },
          "metadata": {}
        }
      ]
    },
    {
      "cell_type": "code",
      "source": [
        "model_rf$importance"
      ],
      "metadata": {
        "colab": {
          "base_uri": "https://localhost:8080/",
          "height": 192
        },
        "id": "BWSPiqvuHu6j",
        "outputId": "42e4b255-1cac-4b84-e298-e77c69ca471b"
      },
      "execution_count": null,
      "outputs": [
        {
          "output_type": "display_data",
          "data": {
            "text/plain": [
              "   Iris-setosa Iris-versicolor Iris-virginica MeanDecreaseAccuracy\n",
              "X1 0.03044671  0.027440166     0.035901213    0.030238834         \n",
              "X2 0.01546372  0.002630379     0.009363036    0.009285089         \n",
              "X3 0.32549203  0.248374851     0.271035460    0.279874951         \n",
              "X4 0.33041951  0.303690970     0.385515085    0.335482977         \n",
              "   MeanDecreaseGini\n",
              "X1  7.257985       \n",
              "X2  2.424592       \n",
              "X3 31.116423       \n",
              "X4 38.366534       "
            ],
            "text/latex": "A matrix: 4 × 5 of type dbl\n\\begin{tabular}{r|lllll}\n  & Iris-setosa & Iris-versicolor & Iris-virginica & MeanDecreaseAccuracy & MeanDecreaseGini\\\\\n\\hline\n\tX1 & 0.03044671 & 0.027440166 & 0.035901213 & 0.030238834 &  7.257985\\\\\n\tX2 & 0.01546372 & 0.002630379 & 0.009363036 & 0.009285089 &  2.424592\\\\\n\tX3 & 0.32549203 & 0.248374851 & 0.271035460 & 0.279874951 & 31.116423\\\\\n\tX4 & 0.33041951 & 0.303690970 & 0.385515085 & 0.335482977 & 38.366534\\\\\n\\end{tabular}\n",
            "text/markdown": "\nA matrix: 4 × 5 of type dbl\n\n| <!--/--> | Iris-setosa | Iris-versicolor | Iris-virginica | MeanDecreaseAccuracy | MeanDecreaseGini |\n|---|---|---|---|---|---|\n| X1 | 0.03044671 | 0.027440166 | 0.035901213 | 0.030238834 |  7.257985 |\n| X2 | 0.01546372 | 0.002630379 | 0.009363036 | 0.009285089 |  2.424592 |\n| X3 | 0.32549203 | 0.248374851 | 0.271035460 | 0.279874951 | 31.116423 |\n| X4 | 0.33041951 | 0.303690970 | 0.385515085 | 0.335482977 | 38.366534 |\n\n",
            "text/html": [
              "<table class=\"dataframe\">\n",
              "<caption>A matrix: 4 × 5 of type dbl</caption>\n",
              "<thead>\n",
              "\t<tr><th></th><th scope=col>Iris-setosa</th><th scope=col>Iris-versicolor</th><th scope=col>Iris-virginica</th><th scope=col>MeanDecreaseAccuracy</th><th scope=col>MeanDecreaseGini</th></tr>\n",
              "</thead>\n",
              "<tbody>\n",
              "\t<tr><th scope=row>X1</th><td>0.03044671</td><td>0.027440166</td><td>0.035901213</td><td>0.030238834</td><td> 7.257985</td></tr>\n",
              "\t<tr><th scope=row>X2</th><td>0.01546372</td><td>0.002630379</td><td>0.009363036</td><td>0.009285089</td><td> 2.424592</td></tr>\n",
              "\t<tr><th scope=row>X3</th><td>0.32549203</td><td>0.248374851</td><td>0.271035460</td><td>0.279874951</td><td>31.116423</td></tr>\n",
              "\t<tr><th scope=row>X4</th><td>0.33041951</td><td>0.303690970</td><td>0.385515085</td><td>0.335482977</td><td>38.366534</td></tr>\n",
              "</tbody>\n",
              "</table>\n"
            ]
          },
          "metadata": {}
        }
      ]
    },
    {
      "cell_type": "code",
      "source": [
        "#accuracy score \n",
        "\n",
        "113/nrow(data)\n"
      ],
      "metadata": {
        "colab": {
          "base_uri": "https://localhost:8080/",
          "height": 34
        },
        "id": "lE1BR6n-IGcW",
        "outputId": "2e15f9f8-a2f0-4102-b531-4b1d2e4402e8"
      },
      "execution_count": null,
      "outputs": [
        {
          "output_type": "display_data",
          "data": {
            "text/plain": [
              "[1] 0.7533333"
            ],
            "text/latex": "0.753333333333333",
            "text/markdown": "0.753333333333333",
            "text/html": [
              "0.753333333333333"
            ]
          },
          "metadata": {}
        }
      ]
    },
    {
      "cell_type": "code",
      "source": [
        ""
      ],
      "metadata": {
        "id": "B27w4SZaQNp2"
      },
      "execution_count": null,
      "outputs": []
    }
  ]
}